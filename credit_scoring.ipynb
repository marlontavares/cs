{
 "cells": [
  {
   "cell_type": "code",
   "execution_count": 1,
   "metadata": {},
   "outputs": [],
   "source": [
    "import pandas as pd\n",
    "import numpy as np\n",
    "import matplotlib.pyplot as plt\n",
    "import pylab as pl\n",
    "import seaborn as sns\n",
    "from sklearn.preprocessing import KBinsDiscretizer\n",
    "from itertools import combinations\n",
    "from scipy.stats import chi2_contingency\n",
    "from sklearn.preprocessing import OneHotEncoder\n",
    "from sklearn.model_selection import train_test_split\n",
    "from sklearn.feature_selection import f_regression\n",
    "from sklearn.linear_model import LogisticRegression\n",
    "from sklearn.metrics import roc_curve, roc_auc_score, auc\n",
    "from sklearn.metrics import plot_confusion_matrix\n",
    "from sklearn.metrics import classification_report"
   ]
  },
  {
   "cell_type": "markdown",
   "metadata": {},
   "source": [
    "<b>Campos da Base de Dados</b><br>\n",
    "<b>idade</b> - idade do cliente em anos<br>\n",
    "<b>experiencia</b> - tempo de experiência em anos<br>\n",
    "<b>tempo_endereco</b> - tempo que mora no mesmo endereço em anos<br>\n",
    "<b>renda</b> - renda anual em salários mínimos<br>\n",
    "<b>debito_renda</b> - relação entre seus débitos (dívidas totais) e a renda anual<br>\n",
    "<b>cred_deb</b> - razão entre seus créditos e débitos<br>\n",
    "<b>outros_debitos</b> - Valor de outros débitos (em 1.000 reais)<br>\n",
    "<b>mau</b> - se pagou o não o empréstimo bancário (0=pagou, 1=não pagou)<br>\n"
   ]
  },
  {
   "cell_type": "code",
   "execution_count": 2,
   "metadata": {},
   "outputs": [],
   "source": [
    "df = pd.read_csv('base.csv', sep=';', decimal=',')"
   ]
  },
  {
   "cell_type": "code",
   "execution_count": 3,
   "metadata": {},
   "outputs": [
    {
     "data": {
      "text/html": [
       "<div>\n",
       "<style scoped>\n",
       "    .dataframe tbody tr th:only-of-type {\n",
       "        vertical-align: middle;\n",
       "    }\n",
       "\n",
       "    .dataframe tbody tr th {\n",
       "        vertical-align: top;\n",
       "    }\n",
       "\n",
       "    .dataframe thead th {\n",
       "        text-align: right;\n",
       "    }\n",
       "</style>\n",
       "<table border=\"1\" class=\"dataframe\">\n",
       "  <thead>\n",
       "    <tr style=\"text-align: right;\">\n",
       "      <th></th>\n",
       "      <th>idade</th>\n",
       "      <th>experiencia</th>\n",
       "      <th>tempo_endereco</th>\n",
       "      <th>renda</th>\n",
       "      <th>debito_renda</th>\n",
       "      <th>cred_deb</th>\n",
       "      <th>outros_debitos</th>\n",
       "      <th>mau</th>\n",
       "    </tr>\n",
       "  </thead>\n",
       "  <tbody>\n",
       "    <tr>\n",
       "      <th>0</th>\n",
       "      <td>41</td>\n",
       "      <td>17</td>\n",
       "      <td>12</td>\n",
       "      <td>35.9</td>\n",
       "      <td>11.90</td>\n",
       "      <td>0.504108</td>\n",
       "      <td>3.767992</td>\n",
       "      <td>0</td>\n",
       "    </tr>\n",
       "    <tr>\n",
       "      <th>1</th>\n",
       "      <td>30</td>\n",
       "      <td>13</td>\n",
       "      <td>8</td>\n",
       "      <td>46.7</td>\n",
       "      <td>17.88</td>\n",
       "      <td>1.352694</td>\n",
       "      <td>6.997266</td>\n",
       "      <td>0</td>\n",
       "    </tr>\n",
       "    <tr>\n",
       "      <th>2</th>\n",
       "      <td>40</td>\n",
       "      <td>15</td>\n",
       "      <td>14</td>\n",
       "      <td>61.8</td>\n",
       "      <td>10.64</td>\n",
       "      <td>3.438997</td>\n",
       "      <td>3.136523</td>\n",
       "      <td>0</td>\n",
       "    </tr>\n",
       "    <tr>\n",
       "      <th>3</th>\n",
       "      <td>41</td>\n",
       "      <td>15</td>\n",
       "      <td>14</td>\n",
       "      <td>72.0</td>\n",
       "      <td>29.67</td>\n",
       "      <td>4.165668</td>\n",
       "      <td>17.196732</td>\n",
       "      <td>0</td>\n",
       "    </tr>\n",
       "    <tr>\n",
       "      <th>4</th>\n",
       "      <td>57</td>\n",
       "      <td>7</td>\n",
       "      <td>37</td>\n",
       "      <td>25.6</td>\n",
       "      <td>15.86</td>\n",
       "      <td>1.498199</td>\n",
       "      <td>2.561961</td>\n",
       "      <td>0</td>\n",
       "    </tr>\n",
       "  </tbody>\n",
       "</table>\n",
       "</div>"
      ],
      "text/plain": [
       "   idade  experiencia  tempo_endereco  renda  debito_renda  cred_deb  \\\n",
       "0     41           17              12   35.9         11.90  0.504108   \n",
       "1     30           13               8   46.7         17.88  1.352694   \n",
       "2     40           15              14   61.8         10.64  3.438997   \n",
       "3     41           15              14   72.0         29.67  4.165668   \n",
       "4     57            7              37   25.6         15.86  1.498199   \n",
       "\n",
       "   outros_debitos  mau  \n",
       "0        3.767992    0  \n",
       "1        6.997266    0  \n",
       "2        3.136523    0  \n",
       "3       17.196732    0  \n",
       "4        2.561961    0  "
      ]
     },
     "execution_count": 3,
     "metadata": {},
     "output_type": "execute_result"
    }
   ],
   "source": [
    "df.head()"
   ]
  },
  {
   "cell_type": "code",
   "execution_count": 4,
   "metadata": {},
   "outputs": [
    {
     "name": "stdout",
     "output_type": "stream",
     "text": [
      "<class 'pandas.core.frame.DataFrame'>\n",
      "RangeIndex: 5000 entries, 0 to 4999\n",
      "Data columns (total 8 columns):\n",
      " #   Column          Non-Null Count  Dtype  \n",
      "---  ------          --------------  -----  \n",
      " 0   idade           5000 non-null   int64  \n",
      " 1   experiencia     5000 non-null   int64  \n",
      " 2   tempo_endereco  5000 non-null   int64  \n",
      " 3   renda           5000 non-null   float64\n",
      " 4   debito_renda    5000 non-null   float64\n",
      " 5   cred_deb        5000 non-null   float64\n",
      " 6   outros_debitos  5000 non-null   float64\n",
      " 7   mau             5000 non-null   int64  \n",
      "dtypes: float64(4), int64(4)\n",
      "memory usage: 312.6 KB\n"
     ]
    }
   ],
   "source": [
    "df.info()"
   ]
  },
  {
   "cell_type": "code",
   "execution_count": 5,
   "metadata": {},
   "outputs": [
    {
     "data": {
      "text/plain": [
       "(5000, 8)"
      ]
     },
     "execution_count": 5,
     "metadata": {},
     "output_type": "execute_result"
    }
   ],
   "source": [
    "df.shape"
   ]
  },
  {
   "cell_type": "code",
   "execution_count": 6,
   "metadata": {},
   "outputs": [
    {
     "data": {
      "text/plain": [
       "0"
      ]
     },
     "execution_count": 6,
     "metadata": {},
     "output_type": "execute_result"
    }
   ],
   "source": [
    "df.duplicated().sum()"
   ]
  },
  {
   "cell_type": "code",
   "execution_count": 7,
   "metadata": {},
   "outputs": [
    {
     "data": {
      "text/plain": [
       "idade             0\n",
       "experiencia       0\n",
       "tempo_endereco    0\n",
       "renda             0\n",
       "debito_renda      0\n",
       "cred_deb          0\n",
       "outros_debitos    0\n",
       "mau               0\n",
       "dtype: int64"
      ]
     },
     "execution_count": 7,
     "metadata": {},
     "output_type": "execute_result"
    }
   ],
   "source": [
    "df.isnull().sum()"
   ]
  },
  {
   "cell_type": "code",
   "execution_count": 8,
   "metadata": {},
   "outputs": [
    {
     "data": {
      "text/html": [
       "<div>\n",
       "<style scoped>\n",
       "    .dataframe tbody tr th:only-of-type {\n",
       "        vertical-align: middle;\n",
       "    }\n",
       "\n",
       "    .dataframe tbody tr th {\n",
       "        vertical-align: top;\n",
       "    }\n",
       "\n",
       "    .dataframe thead th {\n",
       "        text-align: right;\n",
       "    }\n",
       "</style>\n",
       "<table border=\"1\" class=\"dataframe\">\n",
       "  <thead>\n",
       "    <tr style=\"text-align: right;\">\n",
       "      <th></th>\n",
       "      <th>idade</th>\n",
       "      <th>experiencia</th>\n",
       "      <th>tempo_endereco</th>\n",
       "      <th>renda</th>\n",
       "      <th>debito_renda</th>\n",
       "      <th>cred_deb</th>\n",
       "      <th>outros_debitos</th>\n",
       "      <th>mau</th>\n",
       "    </tr>\n",
       "  </thead>\n",
       "  <tbody>\n",
       "    <tr>\n",
       "      <th>count</th>\n",
       "      <td>5000.000000</td>\n",
       "      <td>5000.000000</td>\n",
       "      <td>5000.000000</td>\n",
       "      <td>5000.000000</td>\n",
       "      <td>5000.000000</td>\n",
       "      <td>5000.000000</td>\n",
       "      <td>5000.000000</td>\n",
       "      <td>5000.000000</td>\n",
       "    </tr>\n",
       "    <tr>\n",
       "      <th>mean</th>\n",
       "      <td>35.387200</td>\n",
       "      <td>8.703800</td>\n",
       "      <td>8.154000</td>\n",
       "      <td>47.676980</td>\n",
       "      <td>10.075984</td>\n",
       "      <td>1.628071</td>\n",
       "      <td>3.218582</td>\n",
       "      <td>0.251200</td>\n",
       "    </tr>\n",
       "    <tr>\n",
       "      <th>std</th>\n",
       "      <td>7.948403</td>\n",
       "      <td>7.194583</td>\n",
       "      <td>6.760786</td>\n",
       "      <td>51.793192</td>\n",
       "      <td>6.659336</td>\n",
       "      <td>3.053369</td>\n",
       "      <td>6.944523</td>\n",
       "      <td>0.433747</td>\n",
       "    </tr>\n",
       "    <tr>\n",
       "      <th>min</th>\n",
       "      <td>20.000000</td>\n",
       "      <td>0.000000</td>\n",
       "      <td>0.000000</td>\n",
       "      <td>12.100000</td>\n",
       "      <td>0.080000</td>\n",
       "      <td>0.005292</td>\n",
       "      <td>0.009373</td>\n",
       "      <td>0.000000</td>\n",
       "    </tr>\n",
       "    <tr>\n",
       "      <th>25%</th>\n",
       "      <td>29.000000</td>\n",
       "      <td>3.000000</td>\n",
       "      <td>3.000000</td>\n",
       "      <td>24.500000</td>\n",
       "      <td>5.050000</td>\n",
       "      <td>0.396181</td>\n",
       "      <td>0.990071</td>\n",
       "      <td>0.000000</td>\n",
       "    </tr>\n",
       "    <tr>\n",
       "      <th>50%</th>\n",
       "      <td>35.000000</td>\n",
       "      <td>7.000000</td>\n",
       "      <td>7.000000</td>\n",
       "      <td>34.500000</td>\n",
       "      <td>8.635000</td>\n",
       "      <td>0.906189</td>\n",
       "      <td>1.960223</td>\n",
       "      <td>0.000000</td>\n",
       "    </tr>\n",
       "    <tr>\n",
       "      <th>75%</th>\n",
       "      <td>41.000000</td>\n",
       "      <td>13.000000</td>\n",
       "      <td>12.000000</td>\n",
       "      <td>54.725000</td>\n",
       "      <td>13.682500</td>\n",
       "      <td>1.859147</td>\n",
       "      <td>3.789633</td>\n",
       "      <td>1.000000</td>\n",
       "    </tr>\n",
       "    <tr>\n",
       "      <th>max</th>\n",
       "      <td>58.000000</td>\n",
       "      <td>38.000000</td>\n",
       "      <td>37.000000</td>\n",
       "      <td>2461.700000</td>\n",
       "      <td>44.620000</td>\n",
       "      <td>139.580605</td>\n",
       "      <td>416.517425</td>\n",
       "      <td>1.000000</td>\n",
       "    </tr>\n",
       "  </tbody>\n",
       "</table>\n",
       "</div>"
      ],
      "text/plain": [
       "             idade  experiencia  tempo_endereco        renda  debito_renda  \\\n",
       "count  5000.000000  5000.000000     5000.000000  5000.000000   5000.000000   \n",
       "mean     35.387200     8.703800        8.154000    47.676980     10.075984   \n",
       "std       7.948403     7.194583        6.760786    51.793192      6.659336   \n",
       "min      20.000000     0.000000        0.000000    12.100000      0.080000   \n",
       "25%      29.000000     3.000000        3.000000    24.500000      5.050000   \n",
       "50%      35.000000     7.000000        7.000000    34.500000      8.635000   \n",
       "75%      41.000000    13.000000       12.000000    54.725000     13.682500   \n",
       "max      58.000000    38.000000       37.000000  2461.700000     44.620000   \n",
       "\n",
       "          cred_deb  outros_debitos          mau  \n",
       "count  5000.000000     5000.000000  5000.000000  \n",
       "mean      1.628071        3.218582     0.251200  \n",
       "std       3.053369        6.944523     0.433747  \n",
       "min       0.005292        0.009373     0.000000  \n",
       "25%       0.396181        0.990071     0.000000  \n",
       "50%       0.906189        1.960223     0.000000  \n",
       "75%       1.859147        3.789633     1.000000  \n",
       "max     139.580605      416.517425     1.000000  "
      ]
     },
     "execution_count": 8,
     "metadata": {},
     "output_type": "execute_result"
    }
   ],
   "source": [
    "df.describe()"
   ]
  },
  {
   "cell_type": "markdown",
   "metadata": {},
   "source": [
    "Vericada a estrutura dos dados, a base tem 5.000 registros com 8 colunas, todas são numéricas. Não existem registros repetidos na base, também não existem registros faltantes."
   ]
  },
  {
   "cell_type": "markdown",
   "metadata": {},
   "source": [
    "Observa-se nas estatísticas descritivas que a idade média dos clientes é de 35,3 anos.<br>\n",
    "Os valores das colunas experiencia e tempo_endereco são muito próximos, o valor mínimo de renda é 12 salarios anuais o que significa um salário mínimo por mês. <br>\n",
    "No campo renda é possível ver que 75% dos clientes ganham até 54.7 salarios anuais e o valor máximo é de 2461,7 salários."
   ]
  },
  {
   "cell_type": "code",
   "execution_count": 9,
   "metadata": {},
   "outputs": [
    {
     "data": {
      "text/plain": [
       "0    0.7488\n",
       "1    0.2512\n",
       "Name: mau, dtype: float64"
      ]
     },
     "execution_count": 9,
     "metadata": {},
     "output_type": "execute_result"
    }
   ],
   "source": [
    "df.mau.value_counts() / df.mau.value_counts().sum()"
   ]
  },
  {
   "cell_type": "code",
   "execution_count": 10,
   "metadata": {},
   "outputs": [
    {
     "data": {
      "text/plain": [
       "0    3744\n",
       "1    1256\n",
       "Name: mau, dtype: int64"
      ]
     },
     "execution_count": 10,
     "metadata": {},
     "output_type": "execute_result"
    }
   ],
   "source": [
    "df.mau.value_counts()"
   ]
  },
  {
   "cell_type": "code",
   "execution_count": 11,
   "metadata": {},
   "outputs": [
    {
     "data": {
      "text/plain": [
       "<matplotlib.axes._subplots.AxesSubplot at 0x1d354e46700>"
      ]
     },
     "execution_count": 11,
     "metadata": {},
     "output_type": "execute_result"
    },
    {
     "data": {
      "image/png": "[encoded data removed]",
      "text/plain": [
       "<Figure size 432x288 with 1 Axes>"
      ]
     },
     "metadata": {
      "needs_background": "light"
     },
     "output_type": "display_data"
    }
   ],
   "source": [
    "df.mau.value_counts().plot.bar()"
   ]
  },
  {
   "cell_type": "markdown",
   "metadata": {},
   "source": [
    "### As classes estão desbalanceadas, 1.256 registros da base é composta por maus. Estes representam 25,12% da base."
   ]
  },
  {
   "cell_type": "markdown",
   "metadata": {},
   "source": [
    "<br><br>\n",
    "## Análise das Variáveis<br>\n",
    "As variáveis serão categorizadas com a função KBinsDiscretizer, será verificada a quantidade de itens em cada faixa para que tenha no mínimo 5% do total dos dados."
   ]
  },
  {
   "cell_type": "code",
   "execution_count": 12,
   "metadata": {},
   "outputs": [],
   "source": [
    "#Função para contagem de valores de cada classe das variaveis\n",
    "def bin_counts(col, bin_col, total):\n",
    "    for i, v in df[bin_col].value_counts().iteritems():\n",
    "        p = v/total\n",
    "        mn = df[col][df[bin_col] == i].min()\n",
    "        mx = df[col][df[bin_col] == i].max()\n",
    "        print('faixa:', i, 'qdte:', v, '%total:', round(p*100,2), 'minimo:', mn, 'maximo:', mx)"
   ]
  },
  {
   "cell_type": "code",
   "execution_count": 13,
   "metadata": {},
   "outputs": [
    {
     "data": {
      "text/plain": [
       "<matplotlib.axes._subplots.AxesSubplot at 0x1d356f21880>"
      ]
     },
     "execution_count": 13,
     "metadata": {},
     "output_type": "execute_result"
    },
    {
     "data": {
      "image/png": "[encoded data removed]",
      "text/plain": [
       "<Figure size 432x288 with 1 Axes>"
      ]
     },
     "metadata": {
      "needs_background": "light"
     },
     "output_type": "display_data"
    }
   ],
   "source": [
    "df.idade.plot.hist()"
   ]
  },
  {
   "cell_type": "code",
   "execution_count": 14,
   "metadata": {},
   "outputs": [
    {
     "data": {
      "text/plain": [
       "(33, 26)"
      ]
     },
     "execution_count": 14,
     "metadata": {},
     "output_type": "execute_result"
    }
   ],
   "source": [
    "df[df.mau == 0].idade.mode()[0], df[df.mau == 1].idade.mode()[0]"
   ]
  },
  {
   "cell_type": "code",
   "execution_count": 15,
   "metadata": {},
   "outputs": [
    {
     "name": "stdout",
     "output_type": "stream",
     "text": [
      "faixa: 2.0 qdte: 910 %total: 18.2 minimo: 31 maximo: 34\n",
      "faixa: 5.0 qdte: 870 %total: 17.4 minimo: 44 maximo: 58\n",
      "faixa: 4.0 qdte: 864 %total: 17.28 minimo: 39 maximo: 43\n",
      "faixa: 3.0 qdte: 816 %total: 16.32 minimo: 35 maximo: 38\n",
      "faixa: 1.0 qdte: 809 %total: 16.18 minimo: 27 maximo: 30\n",
      "faixa: 0.0 qdte: 731 %total: 14.62 minimo: 20 maximo: 26\n"
     ]
    }
   ],
   "source": [
    "discretizer = KBinsDiscretizer(n_bins=6, encode='ordinal', strategy='quantile')\n",
    "df = df.assign(idade_faixas = discretizer.fit_transform(df.idade.values.reshape(-1,1)) )\n",
    "bin_counts('idade', 'idade_faixas', df.shape[0])"
   ]
  },
  {
   "cell_type": "code",
   "execution_count": 16,
   "metadata": {},
   "outputs": [],
   "source": [
    "#renomeia as faixas\n",
    "a = { 0 : 'de 20 a 26 anos', \n",
    "      1 : 'de 27 a 30 anos',\n",
    "      2 : 'de 31 a 34 anos',\n",
    "      3 : 'de 35 a 38 anos',\n",
    "      4 : 'de 39 a 43 anos',\n",
    "      5 : 'de 44 a 58 anos'\n",
    "}\n",
    "df['idade_faixas'] = df['idade_faixas'].map(a)"
   ]
  },
  {
   "cell_type": "code",
   "execution_count": 17,
   "metadata": {},
   "outputs": [
    {
     "data": {
      "image/png": "[encoded data removed]",
      "text/plain": [
       "<Figure size 720x360 with 1 Axes>"
      ]
     },
     "metadata": {
      "needs_background": "light"
     },
     "output_type": "display_data"
    },
    {
     "data": {
      "text/html": [
       "<div>\n",
       "<style scoped>\n",
       "    .dataframe tbody tr th:only-of-type {\n",
       "        vertical-align: middle;\n",
       "    }\n",
       "\n",
       "    .dataframe tbody tr th {\n",
       "        vertical-align: top;\n",
       "    }\n",
       "\n",
       "    .dataframe thead th {\n",
       "        text-align: right;\n",
       "    }\n",
       "</style>\n",
       "<table border=\"1\" class=\"dataframe\">\n",
       "  <thead>\n",
       "    <tr style=\"text-align: right;\">\n",
       "      <th></th>\n",
       "      <th>idade_faixas</th>\n",
       "      <th>mau</th>\n",
       "    </tr>\n",
       "  </thead>\n",
       "  <tbody>\n",
       "    <tr>\n",
       "      <th>0</th>\n",
       "      <td>de 20 a 26 anos</td>\n",
       "      <td>0.415869</td>\n",
       "    </tr>\n",
       "    <tr>\n",
       "      <th>1</th>\n",
       "      <td>de 27 a 30 anos</td>\n",
       "      <td>0.318912</td>\n",
       "    </tr>\n",
       "    <tr>\n",
       "      <th>2</th>\n",
       "      <td>de 31 a 34 anos</td>\n",
       "      <td>0.254945</td>\n",
       "    </tr>\n",
       "    <tr>\n",
       "      <th>3</th>\n",
       "      <td>de 35 a 38 anos</td>\n",
       "      <td>0.197304</td>\n",
       "    </tr>\n",
       "    <tr>\n",
       "      <th>4</th>\n",
       "      <td>de 39 a 43 anos</td>\n",
       "      <td>0.180556</td>\n",
       "    </tr>\n",
       "    <tr>\n",
       "      <th>5</th>\n",
       "      <td>de 44 a 58 anos</td>\n",
       "      <td>0.166667</td>\n",
       "    </tr>\n",
       "  </tbody>\n",
       "</table>\n",
       "</div>"
      ],
      "text/plain": [
       "      idade_faixas       mau\n",
       "0  de 20 a 26 anos  0.415869\n",
       "1  de 27 a 30 anos  0.318912\n",
       "2  de 31 a 34 anos  0.254945\n",
       "3  de 35 a 38 anos  0.197304\n",
       "4  de 39 a 43 anos  0.180556\n",
       "5  de 44 a 58 anos  0.166667"
      ]
     },
     "execution_count": 17,
     "metadata": {},
     "output_type": "execute_result"
    }
   ],
   "source": [
    "df.groupby(['idade_faixas','mau']).size().unstack().plot(kind='bar',stacked=True, figsize=(10, 5))\n",
    "plt.show()\n",
    "df[['idade_faixas', 'mau']].groupby(['idade_faixas'], as_index=False).mean()"
   ]
  },
  {
   "cell_type": "markdown",
   "metadata": {},
   "source": [
    "## As faixas etárias com a maior taxa de maus é de 20 a 26 anos com 41,58% de maus"
   ]
  },
  {
   "cell_type": "code",
   "execution_count": 18,
   "metadata": {},
   "outputs": [
    {
     "data": {
      "text/plain": [
       "<matplotlib.axes._subplots.AxesSubplot at 0x1d35703b9d0>"
      ]
     },
     "execution_count": 18,
     "metadata": {},
     "output_type": "execute_result"
    },
    {
     "data": {
      "image/png": "[encoded data removed]",
      "text/plain": [
       "<Figure size 864x432 with 1 Axes>"
      ]
     },
     "metadata": {
      "needs_background": "light"
     },
     "output_type": "display_data"
    }
   ],
   "source": [
    "ax = sns.boxplot(y='renda', x='idade_faixas', data=df, orient='v', width=0.5)\n",
    "ax.figure.set_size_inches(12,6)\n",
    "ax.set_title('Renda por Faixa Etária', fontsize=20)\n",
    "ax.set_ylabel('Renda', fontsize=16)\n",
    "ax.set_xlabel('idade_faixa', fontsize=16)\n",
    "ax"
   ]
  },
  {
   "cell_type": "markdown",
   "metadata": {},
   "source": [
    "### na variável de renda existe um outlier que foi verificado nas estatísticas descritivas"
   ]
  },
  {
   "cell_type": "code",
   "execution_count": 19,
   "metadata": {},
   "outputs": [
    {
     "data": {
      "text/plain": [
       "<matplotlib.axes._subplots.AxesSubplot at 0x1d35703bac0>"
      ]
     },
     "execution_count": 19,
     "metadata": {},
     "output_type": "execute_result"
    },
    {
     "data": {
      "image/png": "[encoded data removed]",
      "text/plain": [
       "<Figure size 432x288 with 1 Axes>"
      ]
     },
     "metadata": {
      "needs_background": "light"
     },
     "output_type": "display_data"
    }
   ],
   "source": [
    "df.experiencia.plot.hist()"
   ]
  },
  {
   "cell_type": "code",
   "execution_count": 20,
   "metadata": {},
   "outputs": [
    {
     "name": "stdout",
     "output_type": "stream",
     "text": [
      "faixa: 2.0 qdte: 1136 %total: 22.72 minimo: 5 maximo: 8\n",
      "faixa: 3.0 qdte: 1104 %total: 22.08 minimo: 9 maximo: 14\n",
      "faixa: 4.0 qdte: 1019 %total: 20.38 minimo: 15 maximo: 38\n",
      "faixa: 1.0 qdte: 983 %total: 19.66 minimo: 2 maximo: 4\n",
      "faixa: 0.0 qdte: 758 %total: 15.16 minimo: 0 maximo: 1\n"
     ]
    }
   ],
   "source": [
    "discretizer = KBinsDiscretizer(n_bins=5, encode='ordinal', strategy='quantile')\n",
    "df = df.assign(experiencia_faixas = discretizer.fit_transform(df.experiencia.values.reshape(-1,1)) )\n",
    "bin_counts('experiencia', 'experiencia_faixas', df.shape[0])"
   ]
  },
  {
   "cell_type": "code",
   "execution_count": 21,
   "metadata": {},
   "outputs": [],
   "source": [
    "#renomeia as faixas\n",
    "a = { 0 : 'de 0 a 01 ano', \n",
    "      1 : 'de 02 a 04 anos',\n",
    "      2 : 'de 05 a 08 anos',\n",
    "      3 : 'de 09 a 14 anos',\n",
    "      4 : 'de 15 a 38 anos'\n",
    "}\n",
    "df['experiencia_faixas'] = df['experiencia_faixas'].map(a)"
   ]
  },
  {
   "cell_type": "code",
   "execution_count": 22,
   "metadata": {},
   "outputs": [
    {
     "data": {
      "image/png": "[encoded data removed]",
      "text/plain": [
       "<Figure size 720x360 with 1 Axes>"
      ]
     },
     "metadata": {
      "needs_background": "light"
     },
     "output_type": "display_data"
    },
    {
     "data": {
      "text/html": [
       "<div>\n",
       "<style scoped>\n",
       "    .dataframe tbody tr th:only-of-type {\n",
       "        vertical-align: middle;\n",
       "    }\n",
       "\n",
       "    .dataframe tbody tr th {\n",
       "        vertical-align: top;\n",
       "    }\n",
       "\n",
       "    .dataframe thead th {\n",
       "        text-align: right;\n",
       "    }\n",
       "</style>\n",
       "<table border=\"1\" class=\"dataframe\">\n",
       "  <thead>\n",
       "    <tr style=\"text-align: right;\">\n",
       "      <th></th>\n",
       "      <th>experiencia_faixas</th>\n",
       "      <th>mau</th>\n",
       "    </tr>\n",
       "  </thead>\n",
       "  <tbody>\n",
       "    <tr>\n",
       "      <th>0</th>\n",
       "      <td>de 0 a 01 ano</td>\n",
       "      <td>0.439314</td>\n",
       "    </tr>\n",
       "    <tr>\n",
       "      <th>1</th>\n",
       "      <td>de 02 a 04 anos</td>\n",
       "      <td>0.365209</td>\n",
       "    </tr>\n",
       "    <tr>\n",
       "      <th>2</th>\n",
       "      <td>de 05 a 08 anos</td>\n",
       "      <td>0.255282</td>\n",
       "    </tr>\n",
       "    <tr>\n",
       "      <th>3</th>\n",
       "      <td>de 09 a 14 anos</td>\n",
       "      <td>0.155797</td>\n",
       "    </tr>\n",
       "    <tr>\n",
       "      <th>4</th>\n",
       "      <td>de 15 a 38 anos</td>\n",
       "      <td>0.100098</td>\n",
       "    </tr>\n",
       "  </tbody>\n",
       "</table>\n",
       "</div>"
      ],
      "text/plain": [
       "  experiencia_faixas       mau\n",
       "0      de 0 a 01 ano  0.439314\n",
       "1    de 02 a 04 anos  0.365209\n",
       "2    de 05 a 08 anos  0.255282\n",
       "3    de 09 a 14 anos  0.155797\n",
       "4    de 15 a 38 anos  0.100098"
      ]
     },
     "execution_count": 22,
     "metadata": {},
     "output_type": "execute_result"
    }
   ],
   "source": [
    "df.groupby(['experiencia_faixas','mau']).size().unstack().plot(kind='bar',stacked=True, figsize=(10, 5))\n",
    "plt.show()\n",
    "df[['experiencia_faixas', 'mau']].groupby(['experiencia_faixas'], as_index=False).mean()"
   ]
  },
  {
   "cell_type": "markdown",
   "metadata": {},
   "source": [
    "### O tempo de experiencia do cliente tem comportamento semelhante a variável idade."
   ]
  },
  {
   "cell_type": "code",
   "execution_count": 23,
   "metadata": {},
   "outputs": [
    {
     "data": {
      "text/plain": [
       "<matplotlib.axes._subplots.AxesSubplot at 0x1d354d24d90>"
      ]
     },
     "execution_count": 23,
     "metadata": {},
     "output_type": "execute_result"
    },
    {
     "data": {
      "image/png": "[encoded data removed]",
      "text/plain": [
       "<Figure size 432x288 with 1 Axes>"
      ]
     },
     "metadata": {
      "needs_background": "light"
     },
     "output_type": "display_data"
    }
   ],
   "source": [
    "df.tempo_endereco.plot.hist()"
   ]
  },
  {
   "cell_type": "code",
   "execution_count": 24,
   "metadata": {},
   "outputs": [
    {
     "name": "stdout",
     "output_type": "stream",
     "text": [
      "faixa: 3.0 qdte: 1198 %total: 23.96 minimo: 8 maximo: 13\n",
      "faixa: 1.0 qdte: 1118 %total: 22.36 minimo: 2 maximo: 4\n",
      "faixa: 4.0 qdte: 1022 %total: 20.44 minimo: 14 maximo: 37\n",
      "faixa: 2.0 qdte: 904 %total: 18.08 minimo: 5 maximo: 7\n",
      "faixa: 0.0 qdte: 758 %total: 15.16 minimo: 0 maximo: 1\n"
     ]
    }
   ],
   "source": [
    "discretizer = KBinsDiscretizer(n_bins=5, encode='ordinal', strategy='quantile')\n",
    "df = df.assign(endereco_faixas = discretizer.fit_transform(df.tempo_endereco.values.reshape(-1,1)) )\n",
    "bin_counts('tempo_endereco', 'endereco_faixas', df.shape[0])"
   ]
  },
  {
   "cell_type": "code",
   "execution_count": 25,
   "metadata": {},
   "outputs": [],
   "source": [
    "#renomeia as faixas\n",
    "a = { 0 : 'de 0 a 01 ano', \n",
    "      1 : 'de 02 a 04 anos',\n",
    "      2 : 'de 05 a 07 anos',\n",
    "      3 : 'de 08 a 13 anos',\n",
    "      4 : 'de 14 a 37 anos'\n",
    "}\n",
    "df['endereco_faixas'] = df['endereco_faixas'].map(a)"
   ]
  },
  {
   "cell_type": "code",
   "execution_count": 26,
   "metadata": {},
   "outputs": [
    {
     "data": {
      "image/png": "[encoded data removed]",
      "text/plain": [
       "<Figure size 720x360 with 1 Axes>"
      ]
     },
     "metadata": {
      "needs_background": "light"
     },
     "output_type": "display_data"
    },
    {
     "data": {
      "text/html": [
       "<div>\n",
       "<style scoped>\n",
       "    .dataframe tbody tr th:only-of-type {\n",
       "        vertical-align: middle;\n",
       "    }\n",
       "\n",
       "    .dataframe tbody tr th {\n",
       "        vertical-align: top;\n",
       "    }\n",
       "\n",
       "    .dataframe thead th {\n",
       "        text-align: right;\n",
       "    }\n",
       "</style>\n",
       "<table border=\"1\" class=\"dataframe\">\n",
       "  <thead>\n",
       "    <tr style=\"text-align: right;\">\n",
       "      <th></th>\n",
       "      <th>endereco_faixas</th>\n",
       "      <th>mau</th>\n",
       "    </tr>\n",
       "  </thead>\n",
       "  <tbody>\n",
       "    <tr>\n",
       "      <th>0</th>\n",
       "      <td>de 0 a 01 ano</td>\n",
       "      <td>0.374670</td>\n",
       "    </tr>\n",
       "    <tr>\n",
       "      <th>1</th>\n",
       "      <td>de 02 a 04 anos</td>\n",
       "      <td>0.332737</td>\n",
       "    </tr>\n",
       "    <tr>\n",
       "      <th>2</th>\n",
       "      <td>de 05 a 07 anos</td>\n",
       "      <td>0.266593</td>\n",
       "    </tr>\n",
       "    <tr>\n",
       "      <th>3</th>\n",
       "      <td>de 08 a 13 anos</td>\n",
       "      <td>0.204508</td>\n",
       "    </tr>\n",
       "    <tr>\n",
       "      <th>4</th>\n",
       "      <td>de 14 a 37 anos</td>\n",
       "      <td>0.111546</td>\n",
       "    </tr>\n",
       "  </tbody>\n",
       "</table>\n",
       "</div>"
      ],
      "text/plain": [
       "   endereco_faixas       mau\n",
       "0    de 0 a 01 ano  0.374670\n",
       "1  de 02 a 04 anos  0.332737\n",
       "2  de 05 a 07 anos  0.266593\n",
       "3  de 08 a 13 anos  0.204508\n",
       "4  de 14 a 37 anos  0.111546"
      ]
     },
     "execution_count": 26,
     "metadata": {},
     "output_type": "execute_result"
    }
   ],
   "source": [
    "df.groupby(['endereco_faixas','mau']).size().unstack().plot(kind='bar',stacked=True, figsize=(10, 5))\n",
    "plt.show()\n",
    "df[['endereco_faixas', 'mau']].groupby(['endereco_faixas'], as_index=False).mean()"
   ]
  },
  {
   "cell_type": "code",
   "execution_count": 27,
   "metadata": {},
   "outputs": [
    {
     "data": {
      "text/plain": [
       "<matplotlib.axes._subplots.AxesSubplot at 0x1d3574272b0>"
      ]
     },
     "execution_count": 27,
     "metadata": {},
     "output_type": "execute_result"
    },
    {
     "data": {
      "image/png": "[encoded data removed]",
      "text/plain": [
       "<Figure size 864x432 with 1 Axes>"
      ]
     },
     "metadata": {
      "needs_background": "light"
     },
     "output_type": "display_data"
    }
   ],
   "source": [
    "ax = sns.boxplot(y='experiencia', x='endereco_faixas', data=df, orient='v', width=0.5)\n",
    "ax.figure.set_size_inches(12,6)\n",
    "ax.set_title('Tempo de endereço por Experiencia', fontsize=20)\n",
    "ax.set_ylabel('experiencia', fontsize=16)\n",
    "ax.set_xlabel('endereco_faixas', fontsize=16)\n",
    "ax"
   ]
  },
  {
   "cell_type": "code",
   "execution_count": 28,
   "metadata": {},
   "outputs": [
    {
     "data": {
      "text/plain": [
       "<matplotlib.axes._subplots.AxesSubplot at 0x1d357205e50>"
      ]
     },
     "execution_count": 28,
     "metadata": {},
     "output_type": "execute_result"
    },
    {
     "data": {
      "image/png": "[encoded data removed]",
      "text/plain": [
       "<Figure size 432x288 with 1 Axes>"
      ]
     },
     "metadata": {
      "needs_background": "light"
     },
     "output_type": "display_data"
    }
   ],
   "source": [
    "df.renda.plot.hist()"
   ]
  },
  {
   "cell_type": "code",
   "execution_count": 29,
   "metadata": {},
   "outputs": [
    {
     "data": {
      "text/plain": [
       "<matplotlib.axes._subplots.AxesSubplot at 0x1d357195b80>"
      ]
     },
     "execution_count": 29,
     "metadata": {},
     "output_type": "execute_result"
    },
    {
     "data": {
      "image/png": "[encoded data removed]",
      "text/plain": [
       "<Figure size 864x432 with 1 Axes>"
      ]
     },
     "metadata": {
      "needs_background": "light"
     },
     "output_type": "display_data"
    }
   ],
   "source": [
    "ax = sns.boxplot(y='renda', x='mau', data=df, orient='v', width=0.5)\n",
    "ax.figure.set_size_inches(12,6)\n",
    "ax.set_title('Renda x Pagamento do Empréstimo', fontsize=20)\n",
    "ax.set_ylabel('renda', fontsize=16)\n",
    "ax.set_xlabel('mau (0 - Pagou | 1 - Não Pagou)', fontsize=16)\n",
    "ax"
   ]
  },
  {
   "cell_type": "markdown",
   "metadata": {},
   "source": [
    "### Será removido da base o outlier da variável renda"
   ]
  },
  {
   "cell_type": "code",
   "execution_count": 30,
   "metadata": {},
   "outputs": [],
   "source": [
    "outlier = df.renda.max()"
   ]
  },
  {
   "cell_type": "code",
   "execution_count": 31,
   "metadata": {},
   "outputs": [],
   "source": [
    "df = df[df.renda < outlier]"
   ]
  },
  {
   "cell_type": "code",
   "execution_count": 32,
   "metadata": {},
   "outputs": [
    {
     "data": {
      "text/plain": [
       "<matplotlib.axes._subplots.AxesSubplot at 0x1d356f9dfd0>"
      ]
     },
     "execution_count": 32,
     "metadata": {},
     "output_type": "execute_result"
    },
    {
     "data": {
      "image/png": "[encoded data removed]",
      "text/plain": [
       "<Figure size 432x288 with 1 Axes>"
      ]
     },
     "metadata": {
      "needs_background": "light"
     },
     "output_type": "display_data"
    }
   ],
   "source": [
    "df.renda.plot.hist()"
   ]
  },
  {
   "cell_type": "code",
   "execution_count": 33,
   "metadata": {},
   "outputs": [
    {
     "data": {
      "text/plain": [
       "<matplotlib.axes._subplots.AxesSubplot at 0x1d3574524c0>"
      ]
     },
     "execution_count": 33,
     "metadata": {},
     "output_type": "execute_result"
    },
    {
     "data": {
      "image/png": "[encoded data removed]",
      "text/plain": [
       "<Figure size 864x432 with 1 Axes>"
      ]
     },
     "metadata": {
      "needs_background": "light"
     },
     "output_type": "display_data"
    }
   ],
   "source": [
    "ax = sns.boxplot(y='renda', x='mau', data=df, orient='v', width=0.5)\n",
    "ax.figure.set_size_inches(12,6)\n",
    "ax.set_title('Renda x Pagamento do Empréstimo', fontsize=20)\n",
    "ax.set_ylabel('renda', fontsize=16)\n",
    "ax.set_xlabel('mau (0 - Pagou | 1 - Não Pagou)', fontsize=16)\n",
    "ax"
   ]
  },
  {
   "cell_type": "code",
   "execution_count": 34,
   "metadata": {},
   "outputs": [
    {
     "name": "stdout",
     "output_type": "stream",
     "text": [
      "faixa: 6.0 qdte: 561 %total: 11.22 minimo: 45.3 maximo: 58.1\n",
      "faixa: 4.0 qdte: 560 %total: 11.2 minimo: 31.9 maximo: 37.2\n",
      "faixa: 7.0 qdte: 558 %total: 11.16 minimo: 58.2 maximo: 83.5\n",
      "faixa: 8.0 qdte: 556 %total: 11.12 minimo: 83.7 maximo: 433.0\n",
      "faixa: 0.0 qdte: 556 %total: 11.12 minimo: 12.1 maximo: 19.9\n",
      "faixa: 2.0 qdte: 556 %total: 11.12 minimo: 23.6 maximo: 27.3\n",
      "faixa: 5.0 qdte: 553 %total: 11.06 minimo: 37.3 maximo: 45.2\n",
      "faixa: 3.0 qdte: 552 %total: 11.04 minimo: 27.4 maximo: 31.8\n",
      "faixa: 1.0 qdte: 547 %total: 10.94 minimo: 20.0 maximo: 23.5\n"
     ]
    }
   ],
   "source": [
    "discretizer = KBinsDiscretizer(n_bins=9, encode='ordinal', strategy='quantile')\n",
    "df = df.assign(renda_faixas = discretizer.fit_transform(df.renda.values.reshape(-1,1)) )\n",
    "bin_counts('renda', 'renda_faixas', df.shape[0])"
   ]
  },
  {
   "cell_type": "code",
   "execution_count": 35,
   "metadata": {},
   "outputs": [],
   "source": [
    "#renomeia as faixas\n",
    "a = { 0 : 'de 12.1 a 19.9 sal.', \n",
    "      1 : 'de 20.0 a 23.5 sal.',\n",
    "      2 : 'de 23.6 a 27.3 sal.',\n",
    "      3 : 'de 27.4 a 31.8 sal.',\n",
    "      4 : 'de 31.9 a 37.2 sal.',\n",
    "      5 : 'de 37.3 a 45.2 sal.',\n",
    "      6 : 'de 45.3 a 58.1 sal.',\n",
    "      7 : 'de 58.2 a 83.5 sal.',\n",
    "      8 : 'de 83.7 a 433.0 sal.'\n",
    "}\n",
    "df['renda_faixas'] = df['renda_faixas'].map(a)"
   ]
  },
  {
   "cell_type": "code",
   "execution_count": 36,
   "metadata": {},
   "outputs": [
    {
     "data": {
      "image/png": "[encoded data removed]",
      "text/plain": [
       "<Figure size 720x360 with 1 Axes>"
      ]
     },
     "metadata": {
      "needs_background": "light"
     },
     "output_type": "display_data"
    },
    {
     "data": {
      "text/html": [
       "<div>\n",
       "<style scoped>\n",
       "    .dataframe tbody tr th:only-of-type {\n",
       "        vertical-align: middle;\n",
       "    }\n",
       "\n",
       "    .dataframe tbody tr th {\n",
       "        vertical-align: top;\n",
       "    }\n",
       "\n",
       "    .dataframe thead th {\n",
       "        text-align: right;\n",
       "    }\n",
       "</style>\n",
       "<table border=\"1\" class=\"dataframe\">\n",
       "  <thead>\n",
       "    <tr style=\"text-align: right;\">\n",
       "      <th></th>\n",
       "      <th>renda_faixas</th>\n",
       "      <th>mau</th>\n",
       "    </tr>\n",
       "  </thead>\n",
       "  <tbody>\n",
       "    <tr>\n",
       "      <th>0</th>\n",
       "      <td>de 12.1 a 19.9 sal.</td>\n",
       "      <td>0.368705</td>\n",
       "    </tr>\n",
       "    <tr>\n",
       "      <th>1</th>\n",
       "      <td>de 20.0 a 23.5 sal.</td>\n",
       "      <td>0.314442</td>\n",
       "    </tr>\n",
       "    <tr>\n",
       "      <th>2</th>\n",
       "      <td>de 23.6 a 27.3 sal.</td>\n",
       "      <td>0.280576</td>\n",
       "    </tr>\n",
       "    <tr>\n",
       "      <th>3</th>\n",
       "      <td>de 27.4 a 31.8 sal.</td>\n",
       "      <td>0.250000</td>\n",
       "    </tr>\n",
       "    <tr>\n",
       "      <th>4</th>\n",
       "      <td>de 31.9 a 37.2 sal.</td>\n",
       "      <td>0.250000</td>\n",
       "    </tr>\n",
       "    <tr>\n",
       "      <th>5</th>\n",
       "      <td>de 37.3 a 45.2 sal.</td>\n",
       "      <td>0.213382</td>\n",
       "    </tr>\n",
       "    <tr>\n",
       "      <th>6</th>\n",
       "      <td>de 45.3 a 58.1 sal.</td>\n",
       "      <td>0.197861</td>\n",
       "    </tr>\n",
       "    <tr>\n",
       "      <th>7</th>\n",
       "      <td>de 58.2 a 83.5 sal.</td>\n",
       "      <td>0.204301</td>\n",
       "    </tr>\n",
       "    <tr>\n",
       "      <th>8</th>\n",
       "      <td>de 83.7 a 433.0 sal.</td>\n",
       "      <td>0.181655</td>\n",
       "    </tr>\n",
       "  </tbody>\n",
       "</table>\n",
       "</div>"
      ],
      "text/plain": [
       "           renda_faixas       mau\n",
       "0   de 12.1 a 19.9 sal.  0.368705\n",
       "1   de 20.0 a 23.5 sal.  0.314442\n",
       "2   de 23.6 a 27.3 sal.  0.280576\n",
       "3   de 27.4 a 31.8 sal.  0.250000\n",
       "4   de 31.9 a 37.2 sal.  0.250000\n",
       "5   de 37.3 a 45.2 sal.  0.213382\n",
       "6   de 45.3 a 58.1 sal.  0.197861\n",
       "7   de 58.2 a 83.5 sal.  0.204301\n",
       "8  de 83.7 a 433.0 sal.  0.181655"
      ]
     },
     "execution_count": 36,
     "metadata": {},
     "output_type": "execute_result"
    }
   ],
   "source": [
    "df.groupby(['renda_faixas','mau']).size().unstack().plot(kind='bar',stacked=True, figsize=(10, 5))\n",
    "plt.show()\n",
    "df[['renda_faixas', 'mau']].groupby(['renda_faixas'], as_index=False).mean()"
   ]
  },
  {
   "cell_type": "code",
   "execution_count": 37,
   "metadata": {},
   "outputs": [
    {
     "data": {
      "text/plain": [
       "<matplotlib.axes._subplots.AxesSubplot at 0x1d3574c8a00>"
      ]
     },
     "execution_count": 37,
     "metadata": {},
     "output_type": "execute_result"
    },
    {
     "data": {
      "image/png": "[encoded data removed]",
      "text/plain": [
       "<Figure size 1152x432 with 1 Axes>"
      ]
     },
     "metadata": {
      "needs_background": "light"
     },
     "output_type": "display_data"
    }
   ],
   "source": [
    "ax = sns.boxplot(y='idade', x='renda_faixas', data=df, orient='v', width=0.5)\n",
    "ax.figure.set_size_inches(16,6)\n",
    "ax.set_title('Faixa Renda x Idade', fontsize=20)\n",
    "ax.set_ylabel('idade', fontsize=16)\n",
    "ax.set_xlabel('renda_faixas', fontsize=16)\n",
    "ax"
   ]
  },
  {
   "cell_type": "code",
   "execution_count": 38,
   "metadata": {},
   "outputs": [
    {
     "data": {
      "text/plain": [
       "<matplotlib.axes._subplots.AxesSubplot at 0x1d3579137f0>"
      ]
     },
     "execution_count": 38,
     "metadata": {},
     "output_type": "execute_result"
    },
    {
     "data": {
      "image/png": "[encoded data removed]",
      "text/plain": [
       "<Figure size 432x288 with 1 Axes>"
      ]
     },
     "metadata": {
      "needs_background": "light"
     },
     "output_type": "display_data"
    }
   ],
   "source": [
    "df.debito_renda.plot.hist()"
   ]
  },
  {
   "cell_type": "code",
   "execution_count": 39,
   "metadata": {},
   "outputs": [
    {
     "name": "stdout",
     "output_type": "stream",
     "text": [
      "faixa: 4.0 qdte: 1004 %total: 20.08 minimo: 15.12 maximo: 44.62\n",
      "faixa: 1.0 qdte: 1000 %total: 20.0 minimo: 4.39 maximo: 7.16\n",
      "faixa: 0.0 qdte: 1000 %total: 20.0 minimo: 0.08 maximo: 4.38\n",
      "faixa: 2.0 qdte: 998 %total: 19.96 minimo: 7.17 maximo: 10.35\n",
      "faixa: 3.0 qdte: 997 %total: 19.94 minimo: 10.36 maximo: 15.11\n"
     ]
    }
   ],
   "source": [
    "discretizer = KBinsDiscretizer(n_bins=5, encode='ordinal', strategy='quantile')\n",
    "df = df.assign(debito_faixas = discretizer.fit_transform(df.debito_renda.values.reshape(-1,1)) )\n",
    "bin_counts('debito_renda', 'debito_faixas', df.shape[0])"
   ]
  },
  {
   "cell_type": "code",
   "execution_count": 40,
   "metadata": {},
   "outputs": [],
   "source": [
    "#renomeia as faixas\n",
    "a = { 0 : 'de 0.08 a 04.38', \n",
    "      1 : 'de 04.39 a 07.16',\n",
    "      2 : 'de 07.17 a 10.35',\n",
    "      3 : 'de 10.36 a 15.11',\n",
    "      4 : 'de 15.12 a 44.62'\n",
    "}\n",
    "df['debito_faixas'] = df['debito_faixas'].map(a)"
   ]
  },
  {
   "cell_type": "code",
   "execution_count": 41,
   "metadata": {},
   "outputs": [
    {
     "data": {
      "image/png": "[encoded data removed]",
      "text/plain": [
       "<Figure size 720x360 with 1 Axes>"
      ]
     },
     "metadata": {
      "needs_background": "light"
     },
     "output_type": "display_data"
    },
    {
     "data": {
      "text/html": [
       "<div>\n",
       "<style scoped>\n",
       "    .dataframe tbody tr th:only-of-type {\n",
       "        vertical-align: middle;\n",
       "    }\n",
       "\n",
       "    .dataframe tbody tr th {\n",
       "        vertical-align: top;\n",
       "    }\n",
       "\n",
       "    .dataframe thead th {\n",
       "        text-align: right;\n",
       "    }\n",
       "</style>\n",
       "<table border=\"1\" class=\"dataframe\">\n",
       "  <thead>\n",
       "    <tr style=\"text-align: right;\">\n",
       "      <th></th>\n",
       "      <th>debito_faixas</th>\n",
       "      <th>mau</th>\n",
       "    </tr>\n",
       "  </thead>\n",
       "  <tbody>\n",
       "    <tr>\n",
       "      <th>0</th>\n",
       "      <td>de 0.08 a 04.38</td>\n",
       "      <td>0.088000</td>\n",
       "    </tr>\n",
       "    <tr>\n",
       "      <th>1</th>\n",
       "      <td>de 04.39 a 07.16</td>\n",
       "      <td>0.145000</td>\n",
       "    </tr>\n",
       "    <tr>\n",
       "      <th>2</th>\n",
       "      <td>de 07.17 a 10.35</td>\n",
       "      <td>0.200401</td>\n",
       "    </tr>\n",
       "    <tr>\n",
       "      <th>3</th>\n",
       "      <td>de 10.36 a 15.11</td>\n",
       "      <td>0.298897</td>\n",
       "    </tr>\n",
       "    <tr>\n",
       "      <th>4</th>\n",
       "      <td>de 15.12 a 44.62</td>\n",
       "      <td>0.521912</td>\n",
       "    </tr>\n",
       "  </tbody>\n",
       "</table>\n",
       "</div>"
      ],
      "text/plain": [
       "      debito_faixas       mau\n",
       "0   de 0.08 a 04.38  0.088000\n",
       "1  de 04.39 a 07.16  0.145000\n",
       "2  de 07.17 a 10.35  0.200401\n",
       "3  de 10.36 a 15.11  0.298897\n",
       "4  de 15.12 a 44.62  0.521912"
      ]
     },
     "execution_count": 41,
     "metadata": {},
     "output_type": "execute_result"
    }
   ],
   "source": [
    "df.groupby(['debito_faixas','mau']).size().unstack().plot(kind='bar',stacked=True, figsize=(10, 5))\n",
    "plt.show()\n",
    "df[['debito_faixas', 'mau']].groupby(['debito_faixas'], as_index=False).mean()"
   ]
  },
  {
   "cell_type": "markdown",
   "metadata": {},
   "source": [
    "### Quanto maior o comprometimento da renda maior a taxa de maus"
   ]
  },
  {
   "cell_type": "code",
   "execution_count": 42,
   "metadata": {},
   "outputs": [
    {
     "data": {
      "text/plain": [
       "<matplotlib.axes._subplots.AxesSubplot at 0x1d358e6ed60>"
      ]
     },
     "execution_count": 42,
     "metadata": {},
     "output_type": "execute_result"
    },
    {
     "data": {
      "image/png": "[encoded data removed]",
      "text/plain": [
       "<Figure size 1152x432 with 1 Axes>"
      ]
     },
     "metadata": {
      "needs_background": "light"
     },
     "output_type": "display_data"
    }
   ],
   "source": [
    "ax = sns.boxplot(y='idade', x='debito_faixas', data=df, orient='v', width=0.5)\n",
    "ax.figure.set_size_inches(16,6)\n",
    "ax.set_title('Faixa Idade x debito_renda', fontsize=20)\n",
    "ax.set_ylabel('idade', fontsize=16)\n",
    "ax.set_xlabel('debito_faixas', fontsize=16)\n",
    "ax"
   ]
  },
  {
   "cell_type": "code",
   "execution_count": 43,
   "metadata": {},
   "outputs": [
    {
     "data": {
      "text/plain": [
       "<matplotlib.axes._subplots.AxesSubplot at 0x1d358e6ee20>"
      ]
     },
     "execution_count": 43,
     "metadata": {},
     "output_type": "execute_result"
    },
    {
     "data": {
      "image/png": "[encoded data removed]",
      "text/plain": [
       "<Figure size 432x288 with 1 Axes>"
      ]
     },
     "metadata": {
      "needs_background": "light"
     },
     "output_type": "display_data"
    }
   ],
   "source": [
    "df.cred_deb.plot.hist()"
   ]
  },
  {
   "cell_type": "code",
   "execution_count": 44,
   "metadata": {},
   "outputs": [
    {
     "name": "stdout",
     "output_type": "stream",
     "text": [
      "faixa: 0.0 qdte: 1000 %total: 20.0 minimo: 0.005292 maximo: 0.3208815\n",
      "faixa: 4.0 qdte: 1000 %total: 20.0 minimo: 2.25595624 maximo: 54.4990416\n",
      "faixa: 3.0 qdte: 1000 %total: 20.0 minimo: 1.19058342 maximo: 2.2557708\n",
      "faixa: 1.0 qdte: 1000 %total: 20.0 minimo: 0.3211243 maximo: 0.6802708000000001\n",
      "faixa: 2.0 qdte: 999 %total: 19.98 minimo: 0.6804184 maximo: 1.19009682\n"
     ]
    }
   ],
   "source": [
    "discretizer = KBinsDiscretizer(n_bins=5, encode='ordinal', strategy='quantile')\n",
    "df = df.assign(cred_deb_faixas = discretizer.fit_transform(df.cred_deb.values.reshape(-1,1)) )\n",
    "bin_counts('cred_deb', 'cred_deb_faixas', df.shape[0])"
   ]
  },
  {
   "cell_type": "code",
   "execution_count": 45,
   "metadata": {},
   "outputs": [],
   "source": [
    "#renomeia as faixas\n",
    "a = { 0 : 'de 0.005 a 0.320', \n",
    "      1 : 'de 0.321 a 0.680',\n",
    "      2 : 'de 0.680 a 1.190',\n",
    "      3 : 'de 1.190 a 2.255',\n",
    "      4 : 'de 2.255 a 54.49'\n",
    "}\n",
    "df['cred_deb_faixas'] = df['cred_deb_faixas'].map(a)"
   ]
  },
  {
   "cell_type": "code",
   "execution_count": 46,
   "metadata": {},
   "outputs": [
    {
     "data": {
      "image/png": "[encoded data removed]",
      "text/plain": [
       "<Figure size 720x360 with 1 Axes>"
      ]
     },
     "metadata": {
      "needs_background": "light"
     },
     "output_type": "display_data"
    },
    {
     "data": {
      "text/html": [
       "<div>\n",
       "<style scoped>\n",
       "    .dataframe tbody tr th:only-of-type {\n",
       "        vertical-align: middle;\n",
       "    }\n",
       "\n",
       "    .dataframe tbody tr th {\n",
       "        vertical-align: top;\n",
       "    }\n",
       "\n",
       "    .dataframe thead th {\n",
       "        text-align: right;\n",
       "    }\n",
       "</style>\n",
       "<table border=\"1\" class=\"dataframe\">\n",
       "  <thead>\n",
       "    <tr style=\"text-align: right;\">\n",
       "      <th></th>\n",
       "      <th>cred_deb_faixas</th>\n",
       "      <th>mau</th>\n",
       "    </tr>\n",
       "  </thead>\n",
       "  <tbody>\n",
       "    <tr>\n",
       "      <th>0</th>\n",
       "      <td>de 0.005 a 0.320</td>\n",
       "      <td>0.159000</td>\n",
       "    </tr>\n",
       "    <tr>\n",
       "      <th>1</th>\n",
       "      <td>de 0.321 a 0.680</td>\n",
       "      <td>0.182000</td>\n",
       "    </tr>\n",
       "    <tr>\n",
       "      <th>2</th>\n",
       "      <td>de 0.680 a 1.190</td>\n",
       "      <td>0.228228</td>\n",
       "    </tr>\n",
       "    <tr>\n",
       "      <th>3</th>\n",
       "      <td>de 1.190 a 2.255</td>\n",
       "      <td>0.277000</td>\n",
       "    </tr>\n",
       "    <tr>\n",
       "      <th>4</th>\n",
       "      <td>de 2.255 a 54.49</td>\n",
       "      <td>0.409000</td>\n",
       "    </tr>\n",
       "  </tbody>\n",
       "</table>\n",
       "</div>"
      ],
      "text/plain": [
       "    cred_deb_faixas       mau\n",
       "0  de 0.005 a 0.320  0.159000\n",
       "1  de 0.321 a 0.680  0.182000\n",
       "2  de 0.680 a 1.190  0.228228\n",
       "3  de 1.190 a 2.255  0.277000\n",
       "4  de 2.255 a 54.49  0.409000"
      ]
     },
     "execution_count": 46,
     "metadata": {},
     "output_type": "execute_result"
    }
   ],
   "source": [
    "df.groupby(['cred_deb_faixas','mau']).size().unstack().plot(kind='bar',stacked=True, figsize=(10, 5))\n",
    "plt.show()\n",
    "df[['cred_deb_faixas', 'mau']].groupby(['cred_deb_faixas'], as_index=False).mean()"
   ]
  },
  {
   "cell_type": "code",
   "execution_count": 47,
   "metadata": {},
   "outputs": [
    {
     "data": {
      "text/plain": [
       "<matplotlib.axes._subplots.AxesSubplot at 0x1d358e64190>"
      ]
     },
     "execution_count": 47,
     "metadata": {},
     "output_type": "execute_result"
    },
    {
     "data": {
      "image/png": "[encoded data removed]",
      "text/plain": [
       "<Figure size 1152x432 with 1 Axes>"
      ]
     },
     "metadata": {
      "needs_background": "light"
     },
     "output_type": "display_data"
    }
   ],
   "source": [
    "ax = sns.boxplot(y='idade', x='cred_deb_faixas', data=df, orient='v', width=0.5)\n",
    "ax.figure.set_size_inches(16,6)\n",
    "ax.set_title('Faixa Idade x cred_deb', fontsize=20)\n",
    "ax.set_ylabel('idade', fontsize=16)\n",
    "ax.set_xlabel('cred_deb_faixas', fontsize=16)\n",
    "ax"
   ]
  },
  {
   "cell_type": "code",
   "execution_count": 48,
   "metadata": {},
   "outputs": [
    {
     "data": {
      "text/plain": [
       "<matplotlib.axes._subplots.AxesSubplot at 0x1d3574d5fd0>"
      ]
     },
     "execution_count": 48,
     "metadata": {},
     "output_type": "execute_result"
    },
    {
     "data": {
      "image/png": "[encoded data removed]",
      "text/plain": [
       "<Figure size 432x288 with 1 Axes>"
      ]
     },
     "metadata": {
      "needs_background": "light"
     },
     "output_type": "display_data"
    }
   ],
   "source": [
    "df.outros_debitos.plot.hist()"
   ]
  },
  {
   "cell_type": "code",
   "execution_count": 49,
   "metadata": {},
   "outputs": [
    {
     "name": "stdout",
     "output_type": "stream",
     "text": [
      "faixa: 6.0 qdte: 715 %total: 14.3 minimo: 5.4916785 maximo: 53.40152064\n",
      "faixa: 1.0 qdte: 714 %total: 14.28 minimo: 0.6673209 maximo: 1.10957025\n",
      "faixa: 3.0 qdte: 714 %total: 14.28 minimo: 1.63697616 maximo: 2.35635092\n",
      "faixa: 2.0 qdte: 714 %total: 14.28 minimo: 1.10978895 maximo: 1.63629725\n",
      "faixa: 0.0 qdte: 714 %total: 14.28 minimo: 0.00937296 maximo: 0.6672876\n",
      "faixa: 4.0 qdte: 714 %total: 14.28 minimo: 2.35717076 maximo: 3.42961878\n",
      "faixa: 5.0 qdte: 714 %total: 14.28 minimo: 3.4321248 maximo: 5.48621348\n"
     ]
    }
   ],
   "source": [
    "discretizer = KBinsDiscretizer(n_bins=7, encode='ordinal', strategy='quantile')\n",
    "df = df.assign(outros_debitos_faixas = discretizer.fit_transform(df.outros_debitos.values.reshape(-1,1)) )\n",
    "bin_counts('outros_debitos', 'outros_debitos_faixas', df.shape[0])"
   ]
  },
  {
   "cell_type": "code",
   "execution_count": 50,
   "metadata": {},
   "outputs": [],
   "source": [
    "#renomeia as faixas\n",
    "a = { 0 : 'de 0.009 a 0.667', \n",
    "      1 : 'de 0.667 a 1.109',\n",
    "      2 : 'de 1.109 a 1.636',\n",
    "      3 : 'de 1.636 a 2.356',\n",
    "      4 : 'de 2.357 a 3.429',\n",
    "      5 : 'de 3.432 a 5.486',\n",
    "      6 : 'de 5.491 a 53.401'\n",
    "}\n",
    "df['outros_debitos_faixas'] = df['outros_debitos_faixas'].map(a)"
   ]
  },
  {
   "cell_type": "code",
   "execution_count": 51,
   "metadata": {},
   "outputs": [
    {
     "data": {
      "image/png": "[encoded data removed]",
      "text/plain": [
       "<Figure size 720x360 with 1 Axes>"
      ]
     },
     "metadata": {
      "needs_background": "light"
     },
     "output_type": "display_data"
    },
    {
     "data": {
      "text/html": [
       "<div>\n",
       "<style scoped>\n",
       "    .dataframe tbody tr th:only-of-type {\n",
       "        vertical-align: middle;\n",
       "    }\n",
       "\n",
       "    .dataframe tbody tr th {\n",
       "        vertical-align: top;\n",
       "    }\n",
       "\n",
       "    .dataframe thead th {\n",
       "        text-align: right;\n",
       "    }\n",
       "</style>\n",
       "<table border=\"1\" class=\"dataframe\">\n",
       "  <thead>\n",
       "    <tr style=\"text-align: right;\">\n",
       "      <th></th>\n",
       "      <th>outros_debitos_faixas</th>\n",
       "      <th>mau</th>\n",
       "    </tr>\n",
       "  </thead>\n",
       "  <tbody>\n",
       "    <tr>\n",
       "      <th>0</th>\n",
       "      <td>de 0.009 a 0.667</td>\n",
       "      <td>0.145658</td>\n",
       "    </tr>\n",
       "    <tr>\n",
       "      <th>1</th>\n",
       "      <td>de 0.667 a 1.109</td>\n",
       "      <td>0.198880</td>\n",
       "    </tr>\n",
       "    <tr>\n",
       "      <th>2</th>\n",
       "      <td>de 1.109 a 1.636</td>\n",
       "      <td>0.221289</td>\n",
       "    </tr>\n",
       "    <tr>\n",
       "      <th>3</th>\n",
       "      <td>de 1.636 a 2.356</td>\n",
       "      <td>0.259104</td>\n",
       "    </tr>\n",
       "    <tr>\n",
       "      <th>4</th>\n",
       "      <td>de 2.357 a 3.429</td>\n",
       "      <td>0.291317</td>\n",
       "    </tr>\n",
       "    <tr>\n",
       "      <th>5</th>\n",
       "      <td>de 3.432 a 5.486</td>\n",
       "      <td>0.309524</td>\n",
       "    </tr>\n",
       "    <tr>\n",
       "      <th>6</th>\n",
       "      <td>de 5.491 a 53.401</td>\n",
       "      <td>0.331469</td>\n",
       "    </tr>\n",
       "  </tbody>\n",
       "</table>\n",
       "</div>"
      ],
      "text/plain": [
       "  outros_debitos_faixas       mau\n",
       "0      de 0.009 a 0.667  0.145658\n",
       "1      de 0.667 a 1.109  0.198880\n",
       "2      de 1.109 a 1.636  0.221289\n",
       "3      de 1.636 a 2.356  0.259104\n",
       "4      de 2.357 a 3.429  0.291317\n",
       "5      de 3.432 a 5.486  0.309524\n",
       "6     de 5.491 a 53.401  0.331469"
      ]
     },
     "execution_count": 51,
     "metadata": {},
     "output_type": "execute_result"
    }
   ],
   "source": [
    "df.groupby(['outros_debitos_faixas','mau']).size().unstack().plot(kind='bar',stacked=True, figsize=(10, 5))\n",
    "plt.show()\n",
    "df[['outros_debitos_faixas', 'mau']].groupby(['outros_debitos_faixas'], as_index=False).mean()"
   ]
  },
  {
   "cell_type": "code",
   "execution_count": 52,
   "metadata": {},
   "outputs": [
    {
     "data": {
      "text/plain": [
       "<matplotlib.axes._subplots.AxesSubplot at 0x1d358fe2e20>"
      ]
     },
     "execution_count": 52,
     "metadata": {},
     "output_type": "execute_result"
    },
    {
     "data": {
      "image/png": "[encoded data removed]",
      "text/plain": [
       "<Figure size 1152x432 with 1 Axes>"
      ]
     },
     "metadata": {
      "needs_background": "light"
     },
     "output_type": "display_data"
    }
   ],
   "source": [
    "ax = sns.boxplot(y='renda', x='outros_debitos_faixas', data=df, orient='v', width=0.5)\n",
    "ax.figure.set_size_inches(16,6)\n",
    "ax.set_title('renda x outros_debitos', fontsize=20)\n",
    "ax.set_ylabel('renda', fontsize=16)\n",
    "ax.set_xlabel('outros_debitos_faixas', fontsize=16)\n",
    "ax"
   ]
  },
  {
   "cell_type": "code",
   "execution_count": 53,
   "metadata": {},
   "outputs": [
    {
     "data": {
      "text/plain": [
       "<matplotlib.axes._subplots.AxesSubplot at 0x1d3594cdb20>"
      ]
     },
     "execution_count": 53,
     "metadata": {},
     "output_type": "execute_result"
    },
    {
     "data": {
      "image/png": "[encoded data removed]",
      "text/plain": [
       "<Figure size 1152x432 with 1 Axes>"
      ]
     },
     "metadata": {
      "needs_background": "light"
     },
     "output_type": "display_data"
    }
   ],
   "source": [
    "ax = sns.boxplot(y='idade', x='outros_debitos_faixas', data=df, orient='v', width=0.5)\n",
    "ax.figure.set_size_inches(16,6)\n",
    "ax.set_title('idade x outros_debitos', fontsize=20)\n",
    "ax.set_ylabel('idade', fontsize=16)\n",
    "ax.set_xlabel('outros_debitos_faixas', fontsize=16)\n",
    "ax"
   ]
  },
  {
   "cell_type": "markdown",
   "metadata": {},
   "source": [
    "<br>\n",
    "\n",
    "## Correlação entre as variáveis da base de dados"
   ]
  },
  {
   "cell_type": "code",
   "execution_count": 54,
   "metadata": {},
   "outputs": [
    {
     "data": {
      "image/png": "[encoded data removed]",
      "text/plain": [
       "<Figure size 720x720 with 2 Axes>"
      ]
     },
     "metadata": {
      "needs_background": "light"
     },
     "output_type": "display_data"
    }
   ],
   "source": [
    "matrix = df.corr()\n",
    "plt.figure(figsize=(10,10))\n",
    "sns.heatmap(matrix, vmax=1, vmin=-1, cmap=\"bwr\", square=True, annot=True)\n",
    "plt.show()"
   ]
  },
  {
   "cell_type": "markdown",
   "metadata": {},
   "source": [
    "<b>As variáveis da base com maior correlação são: <br>\n",
    "renda x experiencia com 0,67<br>\n",
    "renda x outros_debitos com 0,65</b>"
   ]
  },
  {
   "cell_type": "markdown",
   "metadata": {},
   "source": [
    "### Variáveis Categóricas\n",
    "Para as variáveis categóricas não é possivel aplicar o teste de correlação de Pearson/Spearman.<br>\n",
    "Será aplicado o teste do qui quadrado, que utiliza uma tabela de contigencia para a combinação das variáveis.<br> \n",
    "A hipótese nula é de que as variáveis são independentes."
   ]
  },
  {
   "cell_type": "code",
   "execution_count": 55,
   "metadata": {},
   "outputs": [],
   "source": [
    "variaveis = ['idade_faixas',\n",
    "             'experiencia_faixas', 'endereco_faixas', 'renda_faixas',\n",
    "             'debito_faixas', 'cred_deb_faixas', 'outros_debitos_faixas']\n",
    "combinacao = list(combinations(variaveis, 2))"
   ]
  },
  {
   "cell_type": "code",
   "execution_count": 56,
   "metadata": {},
   "outputs": [
    {
     "name": "stdout",
     "output_type": "stream",
     "text": [
      "Aceita H0 para o Chi2 com p 0.0 para as variaveis idade_faixas e experiencia_faixas.\n",
      "Aceita H0 para o Chi2 com p 0.0 para as variaveis idade_faixas e endereco_faixas.\n",
      "Aceita H0 para o Chi2 com p 0.0 para as variaveis idade_faixas e renda_faixas.\n",
      "Aceita H0 para o Chi2 com p 0.31695215383093045 para as variaveis idade_faixas e debito_faixas.\n",
      "Aceita H0 para o Chi2 com p 9.201280714951222e-66 para as variaveis idade_faixas e cred_deb_faixas.\n",
      "Aceita H0 para o Chi2 com p 1.3687661990473853e-101 para as variaveis idade_faixas e outros_debitos_faixas.\n",
      "Aceita H0 para o Chi2 com p 1.6648604746752801e-90 para as variaveis experiencia_faixas e endereco_faixas.\n",
      "Aceita H0 para o Chi2 com p 0.0 para as variaveis experiencia_faixas e renda_faixas.\n",
      "Aceita H0 para o Chi2 com p 0.4889591836920688 para as variaveis experiencia_faixas e debito_faixas.\n",
      "Aceita H0 para o Chi2 com p 1.0083787907788913e-107 para as variaveis experiencia_faixas e cred_deb_faixas.\n",
      "Aceita H0 para o Chi2 com p 4.0969122883301553e-178 para as variaveis experiencia_faixas e outros_debitos_faixas.\n",
      "Aceita H0 para o Chi2 com p 1.2767983310476646e-100 para as variaveis endereco_faixas e renda_faixas.\n",
      "Aceita H0 para o Chi2 com p 0.22690565491012646 para as variaveis endereco_faixas e debito_faixas.\n",
      "Aceita H0 para o Chi2 com p 5.94651015357854e-14 para as variaveis endereco_faixas e cred_deb_faixas.\n",
      "Aceita H0 para o Chi2 com p 5.219981737059117e-25 para as variaveis endereco_faixas e outros_debitos_faixas.\n",
      "Aceita H0 para o Chi2 com p 0.9296134728286606 para as variaveis renda_faixas e debito_faixas.\n",
      "Aceita H0 para o Chi2 com p 2.741338787966324e-260 para as variaveis renda_faixas e cred_deb_faixas.\n",
      "Aceita H0 para o Chi2 com p 0.0 para as variaveis renda_faixas e outros_debitos_faixas.\n",
      "Aceita H0 para o Chi2 com p 0.0 para as variaveis debito_faixas e cred_deb_faixas.\n",
      "Aceita H0 para o Chi2 com p 0.0 para as variaveis debito_faixas e outros_debitos_faixas.\n",
      "Aceita H0 para o Chi2 com p 0.0 para as variaveis cred_deb_faixas e outros_debitos_faixas.\n"
     ]
    }
   ],
   "source": [
    "conf = 0.95\n",
    "for i in combinacao:\n",
    "    con= pd.crosstab(df[i[0]], df[i[1]])\n",
    "    c, p, dof, expected = chi2_contingency(con)\n",
    "    t = 'Aceita' if p < conf else 'Rejeita'\n",
    "    print('%s H0 para o Chi2 com p %s para as variaveis %s e %s.' %(t, p, i[0],i[1]))"
   ]
  },
  {
   "cell_type": "code",
   "execution_count": 57,
   "metadata": {},
   "outputs": [],
   "source": [
    "variaveis.append('mau')"
   ]
  },
  {
   "cell_type": "code",
   "execution_count": 58,
   "metadata": {},
   "outputs": [],
   "source": [
    "data = df[variaveis]"
   ]
  },
  {
   "cell_type": "code",
   "execution_count": 59,
   "metadata": {},
   "outputs": [],
   "source": [
    "def woe_iv(dataset, feature, target):\n",
    "    lst = []\n",
    "    for i in range(dataset[feature].nunique()):\n",
    "        val = list(dataset[feature].unique())[i]\n",
    "        lst.append({\n",
    "            'Value': val,\n",
    "            'All': dataset[dataset[feature] == val].count()[feature],\n",
    "            'Good': dataset[(dataset[feature] == val) & (dataset[target] == 0)].count()[feature],\n",
    "            'Bad': dataset[(dataset[feature] == val) & (dataset[target] == 1)].count()[feature]\n",
    "        })\n",
    "        \n",
    "    dset = pd.DataFrame(lst)\n",
    "    dset['Distr_Good'] = dset['Good'] / dset['Good'].sum()\n",
    "    dset['Distr_Bad'] = dset['Bad'] / dset['Bad'].sum()\n",
    "    dset['WoE'] = np.log(dset['Distr_Good'] / dset['Distr_Bad'])\n",
    "    dset = dset.replace({'WoE': {np.inf: 0, -np.inf: 0}})\n",
    "    dset['IV'] = (dset['Distr_Good'] - dset['Distr_Bad']) * dset['WoE']\n",
    "    iv = dset['IV'].sum()\n",
    "    \n",
    "    dset = dset.sort_values(by='WoE')\n",
    "    \n",
    "    return dset, iv"
   ]
  },
  {
   "cell_type": "code",
   "execution_count": 60,
   "metadata": {},
   "outputs": [
    {
     "name": "stdout",
     "output_type": "stream",
     "text": [
      "WoE and IV for column: idade_faixas\n",
      "             Value  All  Good  Bad  Distr_Good  Distr_Bad       WoE        IV\n",
      "5  de 20 a 26 anos  731   427  304    0.114049   0.242231 -0.753263  0.096555\n",
      "1  de 27 a 30 anos  809   551  258    0.147169   0.205578 -0.334244  0.019523\n",
      "4  de 31 a 34 anos  910   678  232    0.181090   0.184861 -0.020609  0.000078\n",
      "3  de 35 a 38 anos  816   655  161    0.174947   0.128287  0.310212  0.014474\n",
      "0  de 39 a 43 anos  864   708  156    0.189103   0.124303  0.419569  0.027188\n",
      "2  de 44 a 58 anos  869   725  144    0.193643   0.114741  0.523339  0.041293\n",
      "IV score: 0.20\n",
      "\n",
      "\n",
      "WoE and IV for column: experiencia_faixas\n",
      "             Value   All  Good  Bad  Distr_Good  Distr_Bad       WoE        IV\n",
      "3    de 0 a 01 ano   758   425  333    0.113515   0.265339 -0.849072  0.128909\n",
      "4  de 02 a 04 anos   983   624  359    0.166667   0.286056 -0.540191  0.064493\n",
      "2  de 05 a 08 anos  1136   846  290    0.225962   0.231076 -0.022381  0.000114\n",
      "1  de 09 a 14 anos  1104   932  172    0.248932   0.137052  0.596819  0.066772\n",
      "0  de 15 a 38 anos  1018   917  101    0.244925   0.080478  1.112968  0.183024\n",
      "IV score: 0.44\n",
      "\n",
      "\n",
      "WoE and IV for column: endereco_faixas\n",
      "             Value   All  Good  Bad  Distr_Good  Distr_Bad       WoE        IV\n",
      "3    de 0 a 01 ano   757   474  283    0.126603   0.225498 -0.577259  0.057088\n",
      "2  de 02 a 04 anos  1118   746  372    0.199252   0.296414 -0.397187  0.038592\n",
      "4  de 05 a 07 anos   904   663  241    0.177083   0.192032 -0.081041  0.001211\n",
      "0  de 08 a 13 anos  1198   953  245    0.254541   0.195219  0.265338  0.015740\n",
      "1  de 14 a 37 anos  1022   908  114    0.242521   0.090837  0.982027  0.148958\n",
      "IV score: 0.26\n",
      "\n",
      "\n",
      "WoE and IV for column: renda_faixas\n",
      "                  Value  All  Good  Bad  Distr_Good  Distr_Bad       WoE  \\\n",
      "5   de 12.1 a 19.9 sal.  556   351  205    0.093750   0.163347 -0.555243   \n",
      "6   de 20.0 a 23.5 sal.  547   375  172    0.100160   0.137052 -0.313587   \n",
      "3   de 23.6 a 27.3 sal.  556   400  156    0.106838   0.124303 -0.151410   \n",
      "0   de 31.9 a 37.2 sal.  560   420  140    0.112179   0.111554  0.005593   \n",
      "4   de 27.4 a 31.8 sal.  552   414  138    0.110577   0.109960  0.005593   \n",
      "7   de 37.3 a 45.2 sal.  553   435  118    0.116186   0.094024  0.211642   \n",
      "2   de 58.2 a 83.5 sal.  558   444  114    0.118590   0.090837  0.266607   \n",
      "1   de 45.3 a 58.1 sal.  561   450  111    0.120192   0.088446  0.306698   \n",
      "8  de 83.7 a 433.0 sal.  556   455  101    0.121528   0.080478  0.412158   \n",
      "\n",
      "         IV  \n",
      "5  0.038643  \n",
      "6  0.011569  \n",
      "3  0.002644  \n",
      "0  0.000003  \n",
      "4  0.000003  \n",
      "7  0.004690  \n",
      "2  0.007399  \n",
      "1  0.009736  \n",
      "8  0.016919  \n",
      "IV score: 0.09\n",
      "\n",
      "\n",
      "WoE and IV for column: debito_faixas\n",
      "              Value   All  Good  Bad  Distr_Good  Distr_Bad       WoE  \\\n",
      "1  de 15.12 a 44.62  1004   480  524    0.128205   0.417530 -1.180725   \n",
      "0  de 10.36 a 15.11   997   699  298    0.186699   0.237450 -0.240462   \n",
      "4  de 07.17 a 10.35   998   798  200    0.213141   0.159363  0.290772   \n",
      "3  de 04.39 a 07.16  1000   855  145    0.228365   0.115538  0.681349   \n",
      "2   de 0.08 a 04.38  1000   912   88    0.243590   0.070120  1.245284   \n",
      "\n",
      "         IV  \n",
      "1  0.341613  \n",
      "0  0.012204  \n",
      "4  0.015637  \n",
      "3  0.076875  \n",
      "2  0.216020  \n",
      "IV score: 0.66\n",
      "\n",
      "\n",
      "WoE and IV for column: cred_deb_faixas\n",
      "              Value   All  Good  Bad  Distr_Good  Distr_Bad       WoE  \\\n",
      "2  de 2.255 a 54.49  1000   591  409    0.157853   0.325896 -0.724918   \n",
      "1  de 1.190 a 2.255  1000   723  277    0.193109   0.220717 -0.133627   \n",
      "3  de 0.680 a 1.190   999   771  228    0.205929   0.181673  0.125324   \n",
      "0  de 0.321 a 0.680  1000   818  182    0.218483   0.145020  0.409837   \n",
      "4  de 0.005 a 0.320  1000   841  159    0.224626   0.126693  0.572668   \n",
      "\n",
      "         IV  \n",
      "2  0.121818  \n",
      "1  0.003689  \n",
      "3  0.003040  \n",
      "0  0.030108  \n",
      "4  0.056083  \n",
      "IV score: 0.21\n",
      "\n",
      "\n",
      "WoE and IV for column: outros_debitos_faixas\n",
      "               Value  All  Good  Bad  Distr_Good  Distr_Bad       WoE  \\\n",
      "1  de 5.491 a 53.401  715   478  237    0.127671   0.188845 -0.391468   \n",
      "0   de 3.432 a 5.486  714   493  221    0.131677   0.176096 -0.290673   \n",
      "2   de 2.357 a 3.429  714   506  208    0.135150   0.165737 -0.204020   \n",
      "5   de 1.636 a 2.356  714   529  185    0.141293   0.147410 -0.042386   \n",
      "4   de 1.109 a 1.636  714   556  158    0.148504   0.125896  0.165154   \n",
      "6   de 0.667 a 1.109  714   572  142    0.152778   0.113147  0.300293   \n",
      "3   de 0.009 a 0.667  714   610  104    0.162927   0.082869  0.676049   \n",
      "\n",
      "         IV  \n",
      "1  0.023948  \n",
      "0  0.012911  \n",
      "2  0.006240  \n",
      "5  0.000259  \n",
      "4  0.003734  \n",
      "6  0.011901  \n",
      "3  0.054124  \n",
      "IV score: 0.11\n",
      "\n",
      "\n"
     ]
    }
   ],
   "source": [
    "resumo = []\n",
    "for col in data.columns:\n",
    "    if col == 'mau': continue\n",
    "    else:\n",
    "        print('WoE and IV for column: {}'.format(col))\n",
    "        dt, iv = woe_iv(data, col, 'mau')\n",
    "        resumo.append([col, iv])\n",
    "        print(dt)\n",
    "        print('IV score: {:.2f}'.format(iv))\n",
    "        print('\\n')"
   ]
  },
  {
   "cell_type": "code",
   "execution_count": 61,
   "metadata": {},
   "outputs": [
    {
     "name": "stdout",
     "output_type": "stream",
     "text": [
      "Variável idade_faixas com iv: 0.2 (Médio)\n",
      "Variável experiencia_faixas com iv: 0.44 (Forte)\n",
      "Variável endereco_faixas com iv: 0.26 (Médio)\n",
      "Variável renda_faixas com iv: 0.09 (Fraco)\n",
      "Variável debito_faixas com iv: 0.66 (Ótimo)\n",
      "Variável cred_deb_faixas com iv: 0.21 (Médio)\n",
      "Variável outros_debitos_faixas com iv: 0.11 (Médio)\n"
     ]
    }
   ],
   "source": [
    "for i in resumo:\n",
    "    if i[1] < 0.02:\n",
    "        t = 'Ruim'\n",
    "    elif i[1] < 0.1:\n",
    "        t = 'Fraco'\n",
    "    elif i[1] < 0.3:\n",
    "        t = 'Médio'\n",
    "    elif i[1] < 0.5:\n",
    "        t = 'Forte'\n",
    "    else:\n",
    "        t = 'Ótimo'\n",
    "    \n",
    "    print('Variável %s com iv: %s (%s)' %(i[0],round(i[1],2), t))"
   ]
  },
  {
   "cell_type": "code",
   "execution_count": 62,
   "metadata": {},
   "outputs": [],
   "source": [
    "x = data\n",
    "y = data['mau']\n",
    "treino_x, teste_x, treino_y, teste_y = train_test_split(x, y, test_size=0.30, stratify=y, random_state=42)"
   ]
  },
  {
   "cell_type": "code",
   "execution_count": 63,
   "metadata": {},
   "outputs": [],
   "source": [
    "base = pd.get_dummies(treino_x)\n",
    "teste = pd.get_dummies(teste_x)"
   ]
  },
  {
   "cell_type": "code",
   "execution_count": 64,
   "metadata": {},
   "outputs": [],
   "source": [
    "y = base['mau']\n",
    "x = base.drop(['mau'], axis=1)\n",
    "teste_y = teste['mau']\n",
    "teste_x = teste.drop(['mau'], axis=1)"
   ]
  },
  {
   "cell_type": "code",
   "execution_count": 65,
   "metadata": {},
   "outputs": [],
   "source": [
    "rl = f_regression(x,y)\n",
    "p = rl[1]"
   ]
  },
  {
   "cell_type": "code",
   "execution_count": 66,
   "metadata": {},
   "outputs": [
    {
     "name": "stdout",
     "output_type": "stream",
     "text": [
      "Variável idade_faixas_de 20 a 26 anos com p-valor: 0.0\n",
      "Variável idade_faixas_de 27 a 30 anos com p-valor: 0.0\n",
      "Variável idade_faixas_de 35 a 38 anos com p-valor: 0.0\n",
      "Variável idade_faixas_de 39 a 43 anos com p-valor: 0.0\n",
      "Variável idade_faixas_de 44 a 58 anos com p-valor: 0.0\n",
      "Variável experiencia_faixas_de 0 a 01 ano com p-valor: 0.0\n",
      "Variável experiencia_faixas_de 02 a 04 anos com p-valor: 0.0\n",
      "Variável experiencia_faixas_de 09 a 14 anos com p-valor: 0.0\n",
      "Variável experiencia_faixas_de 15 a 38 anos com p-valor: 0.0\n",
      "Variável endereco_faixas_de 0 a 01 ano com p-valor: 0.0\n",
      "Variável endereco_faixas_de 02 a 04 anos com p-valor: 0.0\n",
      "Variável endereco_faixas_de 08 a 13 anos com p-valor: 0.0\n",
      "Variável endereco_faixas_de 14 a 37 anos com p-valor: 0.0\n",
      "Variável renda_faixas_de 12.1 a 19.9 sal. com p-valor: 0.0\n",
      "Variável renda_faixas_de 20.0 a 23.5 sal. com p-valor: 0.0\n",
      "Variável renda_faixas_de 37.3 a 45.2 sal. com p-valor: 0.02\n",
      "Variável renda_faixas_de 45.3 a 58.1 sal. com p-valor: 0.03\n",
      "Variável renda_faixas_de 58.2 a 83.5 sal. com p-valor: 0.02\n",
      "Variável renda_faixas_de 83.7 a 433.0 sal. com p-valor: 0.0\n",
      "Variável debito_faixas_de 0.08 a 04.38 com p-valor: 0.0\n",
      "Variável debito_faixas_de 04.39 a 07.16 com p-valor: 0.0\n",
      "Variável debito_faixas_de 07.17 a 10.35 com p-valor: 0.0\n",
      "Variável debito_faixas_de 10.36 a 15.11 com p-valor: 0.0\n",
      "Variável debito_faixas_de 15.12 a 44.62 com p-valor: 0.0\n",
      "Variável cred_deb_faixas_de 0.005 a 0.320 com p-valor: 0.0\n",
      "Variável cred_deb_faixas_de 0.321 a 0.680 com p-valor: 0.0\n",
      "Variável cred_deb_faixas_de 2.255 a 54.49 com p-valor: 0.0\n",
      "Variável outros_debitos_faixas_de 0.009 a 0.667 com p-valor: 0.0\n",
      "Variável outros_debitos_faixas_de 0.667 a 1.109 com p-valor: 0.01\n",
      "Variável outros_debitos_faixas_de 2.357 a 3.429 com p-valor: 0.01\n",
      "Variável outros_debitos_faixas_de 3.432 a 5.486 com p-valor: 0.0\n",
      "Variável outros_debitos_faixas_de 5.491 a 53.401 com p-valor: 0.0\n"
     ]
    }
   ],
   "source": [
    "alfa = 0.05\n",
    "lista = []\n",
    "for i in range(len(p)):\n",
    "    if(p[i] < alfa):\n",
    "        lista.append(x.columns[i])\n",
    "        print('Variável %s com p-valor: %s' %(x.columns[i],round(p[i],2)))"
   ]
  },
  {
   "cell_type": "markdown",
   "metadata": {},
   "source": [
    "Listagem das variaveis com p-valor < 0,05, significa que alterações nas variáveis preditoras estão relacionadas com a variável resposta."
   ]
  },
  {
   "cell_type": "code",
   "execution_count": 67,
   "metadata": {},
   "outputs": [],
   "source": [
    "x = x[lista]\n",
    "teste_x = teste_x[lista]"
   ]
  },
  {
   "cell_type": "code",
   "execution_count": 68,
   "metadata": {},
   "outputs": [
    {
     "data": {
      "text/plain": [
       "LogisticRegression(C=0.01)"
      ]
     },
     "execution_count": 68,
     "metadata": {},
     "output_type": "execute_result"
    }
   ],
   "source": [
    "modelo = LogisticRegression(max_iter=100, C=0.01, penalty='l2', solver='lbfgs', class_weight=None)\n",
    "modelo.fit(x, y) "
   ]
  },
  {
   "cell_type": "code",
   "execution_count": 69,
   "metadata": {},
   "outputs": [],
   "source": [
    "prob_previsao = modelo.predict_proba(teste_x)[:,1]"
   ]
  },
  {
   "cell_type": "code",
   "execution_count": 70,
   "metadata": {},
   "outputs": [
    {
     "name": "stdout",
     "output_type": "stream",
     "text": [
      "AUC : 0.807878\n"
     ]
    },
    {
     "data": {
      "text/html": [
       "<div>\n",
       "<style scoped>\n",
       "    .dataframe tbody tr th:only-of-type {\n",
       "        vertical-align: middle;\n",
       "    }\n",
       "\n",
       "    .dataframe tbody tr th {\n",
       "        vertical-align: top;\n",
       "    }\n",
       "\n",
       "    .dataframe thead th {\n",
       "        text-align: right;\n",
       "    }\n",
       "</style>\n",
       "<table border=\"1\" class=\"dataframe\">\n",
       "  <thead>\n",
       "    <tr style=\"text-align: right;\">\n",
       "      <th></th>\n",
       "      <th>fpr</th>\n",
       "      <th>tpr</th>\n",
       "      <th>1-fpr</th>\n",
       "      <th>tf</th>\n",
       "      <th>thresholds</th>\n",
       "    </tr>\n",
       "  </thead>\n",
       "  <tbody>\n",
       "    <tr>\n",
       "      <th>296</th>\n",
       "      <td>0.258237</td>\n",
       "      <td>0.740053</td>\n",
       "      <td>0.741763</td>\n",
       "      <td>-0.00171</td>\n",
       "      <td>0.269578</td>\n",
       "    </tr>\n",
       "  </tbody>\n",
       "</table>\n",
       "</div>"
      ],
      "text/plain": [
       "          fpr       tpr     1-fpr       tf  thresholds\n",
       "296  0.258237  0.740053  0.741763 -0.00171    0.269578"
      ]
     },
     "execution_count": 70,
     "metadata": {},
     "output_type": "execute_result"
    },
    {
     "data": {
      "image/png": "[encoded data removed]",
      "text/plain": [
       "<Figure size 432x288 with 1 Axes>"
      ]
     },
     "metadata": {
      "needs_background": "light"
     },
     "output_type": "display_data"
    }
   ],
   "source": [
    "fpr, tpr, thresholds =roc_curve(teste_y, prob_previsao)\n",
    "print(\"AUC : %f\" % auc(fpr, tpr))\n",
    "\n",
    "i = np.arange(len(tpr)) \n",
    "roc = pd.DataFrame({'fpr' : pd.Series(fpr, index=i),'tpr' : pd.Series(tpr, index = i), '1-fpr' : pd.Series(1-fpr, index = i), 'tf' : pd.Series(tpr - (1-fpr), index = i), 'thresholds' : pd.Series(thresholds, index = i)})\n",
    "\n",
    "\n",
    "fig, ax = pl.subplots()\n",
    "pl.plot(roc['tpr'])\n",
    "pl.plot(roc['1-fpr'], color = 'red')\n",
    "pl.xlabel('1-False Positive Rate')\n",
    "pl.ylabel('True Positive Rate')\n",
    "pl.title('Receiver operating characteristic')\n",
    "ax.set_xticklabels([])\n",
    "roc.iloc[(roc.tf-0).abs().argsort()[:1]]\n"
   ]
  },
  {
   "cell_type": "code",
   "execution_count": 71,
   "metadata": {},
   "outputs": [],
   "source": [
    "dataset = pd.get_dummies(data)"
   ]
  },
  {
   "cell_type": "code",
   "execution_count": 72,
   "metadata": {},
   "outputs": [
    {
     "data": {
      "text/plain": [
       "LogisticRegression(C=0.01)"
      ]
     },
     "execution_count": 72,
     "metadata": {},
     "output_type": "execute_result"
    }
   ],
   "source": [
    "y = dataset['mau']\n",
    "x = dataset.drop(columns = 'mau')\n",
    "modelo = LogisticRegression(max_iter=100, C=0.01, penalty='l2', solver='lbfgs', class_weight=None)\n",
    "modelo.fit(x, y) "
   ]
  },
  {
   "cell_type": "code",
   "execution_count": 73,
   "metadata": {},
   "outputs": [],
   "source": [
    "scores = modelo.predict_proba(x)[:,1]"
   ]
  },
  {
   "cell_type": "code",
   "execution_count": 74,
   "metadata": {},
   "outputs": [],
   "source": [
    "df['score'] = scores"
   ]
  },
  {
   "cell_type": "code",
   "execution_count": 75,
   "metadata": {},
   "outputs": [
    {
     "data": {
      "text/html": [
       "<div>\n",
       "<style scoped>\n",
       "    .dataframe tbody tr th:only-of-type {\n",
       "        vertical-align: middle;\n",
       "    }\n",
       "\n",
       "    .dataframe tbody tr th {\n",
       "        vertical-align: top;\n",
       "    }\n",
       "\n",
       "    .dataframe thead th {\n",
       "        text-align: right;\n",
       "    }\n",
       "</style>\n",
       "<table border=\"1\" class=\"dataframe\">\n",
       "  <thead>\n",
       "    <tr style=\"text-align: right;\">\n",
       "      <th></th>\n",
       "      <th>idade</th>\n",
       "      <th>experiencia</th>\n",
       "      <th>tempo_endereco</th>\n",
       "      <th>renda</th>\n",
       "      <th>debito_renda</th>\n",
       "      <th>cred_deb</th>\n",
       "      <th>outros_debitos</th>\n",
       "      <th>mau</th>\n",
       "      <th>idade_faixas</th>\n",
       "      <th>experiencia_faixas</th>\n",
       "      <th>endereco_faixas</th>\n",
       "      <th>renda_faixas</th>\n",
       "      <th>debito_faixas</th>\n",
       "      <th>cred_deb_faixas</th>\n",
       "      <th>outros_debitos_faixas</th>\n",
       "      <th>score</th>\n",
       "      <th>default</th>\n",
       "    </tr>\n",
       "  </thead>\n",
       "  <tbody>\n",
       "    <tr>\n",
       "      <th>0</th>\n",
       "      <td>41</td>\n",
       "      <td>17</td>\n",
       "      <td>12</td>\n",
       "      <td>35.9</td>\n",
       "      <td>11.90</td>\n",
       "      <td>0.504108</td>\n",
       "      <td>3.767992</td>\n",
       "      <td>0</td>\n",
       "      <td>de 39 a 43 anos</td>\n",
       "      <td>de 15 a 38 anos</td>\n",
       "      <td>de 08 a 13 anos</td>\n",
       "      <td>de 31.9 a 37.2 sal.</td>\n",
       "      <td>de 10.36 a 15.11</td>\n",
       "      <td>de 0.321 a 0.680</td>\n",
       "      <td>de 3.432 a 5.486</td>\n",
       "      <td>0.118034</td>\n",
       "      <td>0</td>\n",
       "    </tr>\n",
       "    <tr>\n",
       "      <th>1</th>\n",
       "      <td>30</td>\n",
       "      <td>13</td>\n",
       "      <td>8</td>\n",
       "      <td>46.7</td>\n",
       "      <td>17.88</td>\n",
       "      <td>1.352694</td>\n",
       "      <td>6.997266</td>\n",
       "      <td>0</td>\n",
       "      <td>de 27 a 30 anos</td>\n",
       "      <td>de 09 a 14 anos</td>\n",
       "      <td>de 08 a 13 anos</td>\n",
       "      <td>de 45.3 a 58.1 sal.</td>\n",
       "      <td>de 15.12 a 44.62</td>\n",
       "      <td>de 1.190 a 2.255</td>\n",
       "      <td>de 5.491 a 53.401</td>\n",
       "      <td>0.323686</td>\n",
       "      <td>1</td>\n",
       "    </tr>\n",
       "    <tr>\n",
       "      <th>2</th>\n",
       "      <td>40</td>\n",
       "      <td>15</td>\n",
       "      <td>14</td>\n",
       "      <td>61.8</td>\n",
       "      <td>10.64</td>\n",
       "      <td>3.438997</td>\n",
       "      <td>3.136523</td>\n",
       "      <td>0</td>\n",
       "      <td>de 39 a 43 anos</td>\n",
       "      <td>de 15 a 38 anos</td>\n",
       "      <td>de 14 a 37 anos</td>\n",
       "      <td>de 58.2 a 83.5 sal.</td>\n",
       "      <td>de 10.36 a 15.11</td>\n",
       "      <td>de 2.255 a 54.49</td>\n",
       "      <td>de 2.357 a 3.429</td>\n",
       "      <td>0.162317</td>\n",
       "      <td>0</td>\n",
       "    </tr>\n",
       "    <tr>\n",
       "      <th>3</th>\n",
       "      <td>41</td>\n",
       "      <td>15</td>\n",
       "      <td>14</td>\n",
       "      <td>72.0</td>\n",
       "      <td>29.67</td>\n",
       "      <td>4.165668</td>\n",
       "      <td>17.196732</td>\n",
       "      <td>0</td>\n",
       "      <td>de 39 a 43 anos</td>\n",
       "      <td>de 15 a 38 anos</td>\n",
       "      <td>de 14 a 37 anos</td>\n",
       "      <td>de 58.2 a 83.5 sal.</td>\n",
       "      <td>de 15.12 a 44.62</td>\n",
       "      <td>de 2.255 a 54.49</td>\n",
       "      <td>de 5.491 a 53.401</td>\n",
       "      <td>0.282562</td>\n",
       "      <td>1</td>\n",
       "    </tr>\n",
       "    <tr>\n",
       "      <th>4</th>\n",
       "      <td>57</td>\n",
       "      <td>7</td>\n",
       "      <td>37</td>\n",
       "      <td>25.6</td>\n",
       "      <td>15.86</td>\n",
       "      <td>1.498199</td>\n",
       "      <td>2.561961</td>\n",
       "      <td>0</td>\n",
       "      <td>de 44 a 58 anos</td>\n",
       "      <td>de 05 a 08 anos</td>\n",
       "      <td>de 14 a 37 anos</td>\n",
       "      <td>de 23.6 a 27.3 sal.</td>\n",
       "      <td>de 15.12 a 44.62</td>\n",
       "      <td>de 1.190 a 2.255</td>\n",
       "      <td>de 2.357 a 3.429</td>\n",
       "      <td>0.280902</td>\n",
       "      <td>1</td>\n",
       "    </tr>\n",
       "  </tbody>\n",
       "</table>\n",
       "</div>"
      ],
      "text/plain": [
       "   idade  experiencia  tempo_endereco  renda  debito_renda  cred_deb  \\\n",
       "0     41           17              12   35.9         11.90  0.504108   \n",
       "1     30           13               8   46.7         17.88  1.352694   \n",
       "2     40           15              14   61.8         10.64  3.438997   \n",
       "3     41           15              14   72.0         29.67  4.165668   \n",
       "4     57            7              37   25.6         15.86  1.498199   \n",
       "\n",
       "   outros_debitos  mau     idade_faixas experiencia_faixas  endereco_faixas  \\\n",
       "0        3.767992    0  de 39 a 43 anos    de 15 a 38 anos  de 08 a 13 anos   \n",
       "1        6.997266    0  de 27 a 30 anos    de 09 a 14 anos  de 08 a 13 anos   \n",
       "2        3.136523    0  de 39 a 43 anos    de 15 a 38 anos  de 14 a 37 anos   \n",
       "3       17.196732    0  de 39 a 43 anos    de 15 a 38 anos  de 14 a 37 anos   \n",
       "4        2.561961    0  de 44 a 58 anos    de 05 a 08 anos  de 14 a 37 anos   \n",
       "\n",
       "          renda_faixas     debito_faixas   cred_deb_faixas  \\\n",
       "0  de 31.9 a 37.2 sal.  de 10.36 a 15.11  de 0.321 a 0.680   \n",
       "1  de 45.3 a 58.1 sal.  de 15.12 a 44.62  de 1.190 a 2.255   \n",
       "2  de 58.2 a 83.5 sal.  de 10.36 a 15.11  de 2.255 a 54.49   \n",
       "3  de 58.2 a 83.5 sal.  de 15.12 a 44.62  de 2.255 a 54.49   \n",
       "4  de 23.6 a 27.3 sal.  de 15.12 a 44.62  de 1.190 a 2.255   \n",
       "\n",
       "  outros_debitos_faixas     score  default  \n",
       "0      de 3.432 a 5.486  0.118034        0  \n",
       "1     de 5.491 a 53.401  0.323686        1  \n",
       "2      de 2.357 a 3.429  0.162317        0  \n",
       "3     de 5.491 a 53.401  0.282562        1  \n",
       "4      de 2.357 a 3.429  0.280902        1  "
      ]
     },
     "execution_count": 75,
     "metadata": {},
     "output_type": "execute_result"
    }
   ],
   "source": [
    "def calc_mau(x: float) -> int:\n",
    "    th = 0.269759\n",
    "    if x > th:\n",
    "        return 1\n",
    "    else:\n",
    "        return 0\n",
    "\n",
    "df = df.assign(default = df.score.apply(calc_mau))\n",
    "df.head()"
   ]
  },
  {
   "cell_type": "code",
   "execution_count": 76,
   "metadata": {},
   "outputs": [],
   "source": [
    "pred_y = df['default']"
   ]
  },
  {
   "cell_type": "code",
   "execution_count": 77,
   "metadata": {},
   "outputs": [
    {
     "name": "stdout",
     "output_type": "stream",
     "text": [
      "AUC : 0.816381\n"
     ]
    },
    {
     "data": {
      "image/png": "[encoded data removed]",
      "text/plain": [
       "<Figure size 360x360 with 1 Axes>"
      ]
     },
     "metadata": {
      "needs_background": "light"
     },
     "output_type": "display_data"
    }
   ],
   "source": [
    "tfp, tvp, thresholds = roc_curve(y, scores)\n",
    "print(\"AUC : %f\" % roc_auc_score(y, scores))\n",
    "\n",
    "plt.subplots(1, figsize=(5,5))\n",
    "plt.title('Curva ROC')\n",
    "plt.plot(tfp,tvp)\n",
    "plt.xlabel('Especifidade')\n",
    "plt.ylabel('Sensibilidade')\n",
    "plt.plot([0, 1], ls=\"--\", c = 'red') #plotando linha guia pontilhada vermelha: MODELO ALEATÓRIO\n",
    "plt.plot([0, 0], [1, 0], ls=\"--\", c = 'green'), plt.plot([1, 1], ls=\"--\", c = 'green') #plotando linha guia pontilhada verde: MODELO PERFEITO\n",
    "plt.show()"
   ]
  },
  {
   "cell_type": "code",
   "execution_count": 78,
   "metadata": {},
   "outputs": [
    {
     "data": {
      "text/plain": [
       "<sklearn.metrics._plot.confusion_matrix.ConfusionMatrixDisplay at 0x1d35746d0a0>"
      ]
     },
     "execution_count": 78,
     "metadata": {},
     "output_type": "execute_result"
    },
    {
     "data": {
      "image/png": "[encoded data removed]",
      "text/plain": [
       "<Figure size 432x288 with 2 Axes>"
      ]
     },
     "metadata": {
      "needs_background": "light"
     },
     "output_type": "display_data"
    }
   ],
   "source": [
    "matriz_confusao = plot_confusion_matrix(modelo, x, y, cmap='Blues')\n",
    "matriz_confusao "
   ]
  },
  {
   "cell_type": "code",
   "execution_count": 79,
   "metadata": {},
   "outputs": [
    {
     "name": "stdout",
     "output_type": "stream",
     "text": [
      "              precision    recall  f1-score   support\n",
      "\n",
      "           0       0.89      0.75      0.81      3744\n",
      "           1       0.49      0.74      0.59      1255\n",
      "\n",
      "    accuracy                           0.74      4999\n",
      "   macro avg       0.69      0.74      0.70      4999\n",
      "weighted avg       0.79      0.74      0.76      4999\n",
      "\n"
     ]
    }
   ],
   "source": [
    "print(classification_report(y, pred_y))"
   ]
  },
  {
   "cell_type": "code",
   "execution_count": 80,
   "metadata": {},
   "outputs": [
    {
     "data": {
      "text/html": [
       "<div>\n",
       "<style scoped>\n",
       "    .dataframe tbody tr th:only-of-type {\n",
       "        vertical-align: middle;\n",
       "    }\n",
       "\n",
       "    .dataframe tbody tr th {\n",
       "        vertical-align: top;\n",
       "    }\n",
       "\n",
       "    .dataframe thead th {\n",
       "        text-align: right;\n",
       "    }\n",
       "</style>\n",
       "<table border=\"1\" class=\"dataframe\">\n",
       "  <thead>\n",
       "    <tr style=\"text-align: right;\">\n",
       "      <th></th>\n",
       "      <th>min_scr</th>\n",
       "      <th>max_scr</th>\n",
       "      <th>bads</th>\n",
       "      <th>goods</th>\n",
       "      <th>total</th>\n",
       "      <th>odds</th>\n",
       "      <th>bad_rate</th>\n",
       "      <th>good_rate</th>\n",
       "      <th>bad_cum</th>\n",
       "      <th>good_cum</th>\n",
       "      <th>bad_total</th>\n",
       "      <th>good_total</th>\n",
       "      <th>ks</th>\n",
       "      <th>max_ks</th>\n",
       "    </tr>\n",
       "  </thead>\n",
       "  <tbody>\n",
       "    <tr>\n",
       "      <th>0</th>\n",
       "      <td>0.036064</td>\n",
       "      <td>0.085981</td>\n",
       "      <td>33.610366</td>\n",
       "      <td>466.389634</td>\n",
       "      <td>500.0</td>\n",
       "      <td>13.88</td>\n",
       "      <td>6.72%</td>\n",
       "      <td>93.28%</td>\n",
       "      <td>2.68%</td>\n",
       "      <td>12.46%</td>\n",
       "      <td>1254.995274</td>\n",
       "      <td>3744.004726</td>\n",
       "      <td>9.78</td>\n",
       "      <td></td>\n",
       "    </tr>\n",
       "    <tr>\n",
       "      <th>1</th>\n",
       "      <td>0.086199</td>\n",
       "      <td>0.116261</td>\n",
       "      <td>50.483752</td>\n",
       "      <td>449.516248</td>\n",
       "      <td>500.0</td>\n",
       "      <td>8.90</td>\n",
       "      <td>10.10%</td>\n",
       "      <td>89.90%</td>\n",
       "      <td>6.70%</td>\n",
       "      <td>24.46%</td>\n",
       "      <td>1254.995274</td>\n",
       "      <td>3744.004726</td>\n",
       "      <td>17.76</td>\n",
       "      <td></td>\n",
       "    </tr>\n",
       "    <tr>\n",
       "      <th>2</th>\n",
       "      <td>0.116437</td>\n",
       "      <td>0.146502</td>\n",
       "      <td>65.783404</td>\n",
       "      <td>434.216596</td>\n",
       "      <td>500.0</td>\n",
       "      <td>6.60</td>\n",
       "      <td>13.16%</td>\n",
       "      <td>86.84%</td>\n",
       "      <td>11.94%</td>\n",
       "      <td>36.06%</td>\n",
       "      <td>1254.995274</td>\n",
       "      <td>3744.004726</td>\n",
       "      <td>24.12</td>\n",
       "      <td></td>\n",
       "    </tr>\n",
       "    <tr>\n",
       "      <th>3</th>\n",
       "      <td>0.146523</td>\n",
       "      <td>0.178083</td>\n",
       "      <td>81.510017</td>\n",
       "      <td>418.489983</td>\n",
       "      <td>500.0</td>\n",
       "      <td>5.13</td>\n",
       "      <td>16.30%</td>\n",
       "      <td>83.70%</td>\n",
       "      <td>18.44%</td>\n",
       "      <td>47.24%</td>\n",
       "      <td>1254.995274</td>\n",
       "      <td>3744.004726</td>\n",
       "      <td>28.80</td>\n",
       "      <td></td>\n",
       "    </tr>\n",
       "    <tr>\n",
       "      <th>4</th>\n",
       "      <td>0.178159</td>\n",
       "      <td>0.220424</td>\n",
       "      <td>99.275757</td>\n",
       "      <td>401.724243</td>\n",
       "      <td>501.0</td>\n",
       "      <td>4.05</td>\n",
       "      <td>19.82%</td>\n",
       "      <td>80.18%</td>\n",
       "      <td>26.35%</td>\n",
       "      <td>57.97%</td>\n",
       "      <td>1254.995274</td>\n",
       "      <td>3744.004726</td>\n",
       "      <td>31.62</td>\n",
       "      <td></td>\n",
       "    </tr>\n",
       "    <tr>\n",
       "      <th>5</th>\n",
       "      <td>0.220474</td>\n",
       "      <td>0.260965</td>\n",
       "      <td>119.718942</td>\n",
       "      <td>378.281058</td>\n",
       "      <td>498.0</td>\n",
       "      <td>3.16</td>\n",
       "      <td>24.04%</td>\n",
       "      <td>75.96%</td>\n",
       "      <td>35.89%</td>\n",
       "      <td>68.07%</td>\n",
       "      <td>1254.995274</td>\n",
       "      <td>3744.004726</td>\n",
       "      <td>32.18</td>\n",
       "      <td>&lt;----</td>\n",
       "    </tr>\n",
       "    <tr>\n",
       "      <th>6</th>\n",
       "      <td>0.261016</td>\n",
       "      <td>0.304585</td>\n",
       "      <td>140.832083</td>\n",
       "      <td>359.167917</td>\n",
       "      <td>500.0</td>\n",
       "      <td>2.55</td>\n",
       "      <td>28.17%</td>\n",
       "      <td>71.83%</td>\n",
       "      <td>47.11%</td>\n",
       "      <td>77.67%</td>\n",
       "      <td>1254.995274</td>\n",
       "      <td>3744.004726</td>\n",
       "      <td>30.56</td>\n",
       "      <td></td>\n",
       "    </tr>\n",
       "    <tr>\n",
       "      <th>7</th>\n",
       "      <td>0.304689</td>\n",
       "      <td>0.371728</td>\n",
       "      <td>168.281227</td>\n",
       "      <td>331.718773</td>\n",
       "      <td>500.0</td>\n",
       "      <td>1.97</td>\n",
       "      <td>33.66%</td>\n",
       "      <td>66.34%</td>\n",
       "      <td>60.52%</td>\n",
       "      <td>86.53%</td>\n",
       "      <td>1254.995274</td>\n",
       "      <td>3744.004726</td>\n",
       "      <td>26.01</td>\n",
       "      <td></td>\n",
       "    </tr>\n",
       "    <tr>\n",
       "      <th>8</th>\n",
       "      <td>0.371956</td>\n",
       "      <td>0.473406</td>\n",
       "      <td>209.698738</td>\n",
       "      <td>290.301262</td>\n",
       "      <td>500.0</td>\n",
       "      <td>1.38</td>\n",
       "      <td>41.94%</td>\n",
       "      <td>58.06%</td>\n",
       "      <td>77.23%</td>\n",
       "      <td>94.28%</td>\n",
       "      <td>1254.995274</td>\n",
       "      <td>3744.004726</td>\n",
       "      <td>17.05</td>\n",
       "      <td></td>\n",
       "    </tr>\n",
       "    <tr>\n",
       "      <th>9</th>\n",
       "      <td>0.473569</td>\n",
       "      <td>0.777650</td>\n",
       "      <td>285.800989</td>\n",
       "      <td>214.199011</td>\n",
       "      <td>500.0</td>\n",
       "      <td>0.75</td>\n",
       "      <td>57.16%</td>\n",
       "      <td>42.84%</td>\n",
       "      <td>100.00%</td>\n",
       "      <td>100.00%</td>\n",
       "      <td>1254.995274</td>\n",
       "      <td>3744.004726</td>\n",
       "      <td>0.00</td>\n",
       "      <td></td>\n",
       "    </tr>\n",
       "  </tbody>\n",
       "</table>\n",
       "</div>"
      ],
      "text/plain": [
       "    min_scr   max_scr        bads       goods  total   odds bad_rate  \\\n",
       "0  0.036064  0.085981   33.610366  466.389634  500.0  13.88    6.72%   \n",
       "1  0.086199  0.116261   50.483752  449.516248  500.0   8.90   10.10%   \n",
       "2  0.116437  0.146502   65.783404  434.216596  500.0   6.60   13.16%   \n",
       "3  0.146523  0.178083   81.510017  418.489983  500.0   5.13   16.30%   \n",
       "4  0.178159  0.220424   99.275757  401.724243  501.0   4.05   19.82%   \n",
       "5  0.220474  0.260965  119.718942  378.281058  498.0   3.16   24.04%   \n",
       "6  0.261016  0.304585  140.832083  359.167917  500.0   2.55   28.17%   \n",
       "7  0.304689  0.371728  168.281227  331.718773  500.0   1.97   33.66%   \n",
       "8  0.371956  0.473406  209.698738  290.301262  500.0   1.38   41.94%   \n",
       "9  0.473569  0.777650  285.800989  214.199011  500.0   0.75   57.16%   \n",
       "\n",
       "  good_rate  bad_cum good_cum    bad_total   good_total     ks max_ks  \n",
       "0    93.28%    2.68%   12.46%  1254.995274  3744.004726   9.78         \n",
       "1    89.90%    6.70%   24.46%  1254.995274  3744.004726  17.76         \n",
       "2    86.84%   11.94%   36.06%  1254.995274  3744.004726  24.12         \n",
       "3    83.70%   18.44%   47.24%  1254.995274  3744.004726  28.80         \n",
       "4    80.18%   26.35%   57.97%  1254.995274  3744.004726  31.62         \n",
       "5    75.96%   35.89%   68.07%  1254.995274  3744.004726  32.18  <----  \n",
       "6    71.83%   47.11%   77.67%  1254.995274  3744.004726  30.56         \n",
       "7    66.34%   60.52%   86.53%  1254.995274  3744.004726  26.01         \n",
       "8    58.06%   77.23%   94.28%  1254.995274  3744.004726  17.05         \n",
       "9    42.84%  100.00%  100.00%  1254.995274  3744.004726   0.00         "
      ]
     },
     "execution_count": 80,
     "metadata": {},
     "output_type": "execute_result"
    }
   ],
   "source": [
    "df['good'] = 1 - df.score\n",
    "\n",
    "# quebra em faixas\n",
    "df['bucket'] = pd.qcut(df.score, 10)\n",
    "\n",
    " # agrupa pelas faixas\n",
    "grouped = df.groupby('bucket', as_index = False)\n",
    "\n",
    " # tabela com a contabilizacao\n",
    "agg1 = grouped.min().score\n",
    "agg1 = pd.DataFrame(grouped.min().score, columns = ['min_scr'])\n",
    "agg1['min_scr'] = grouped.min().score\n",
    "agg1['max_scr'] = grouped.max().score\n",
    "agg1['bads'] = grouped.sum().score\n",
    "agg1['goods'] = grouped.sum().good\n",
    "agg1['total'] = agg1.bads + agg1.goods\n",
    "\n",
    "# calculos intervalares\n",
    "agg2 = (agg1.sort_values(by = 'min_scr')).reset_index(drop = True)\n",
    "agg2['odds'] = (agg2.goods / agg2.bads).apply('{0:.2f}'.format)\n",
    "agg2['bad_rate'] = (agg2.bads / agg2.total).apply('{0:.2%}'.format)\n",
    "agg2['good_rate'] = (agg2.goods / agg2.total).apply('{0:.2%}'.format)\n",
    "agg2['bad_cum'] = ((agg2.bads / df.score.sum()).cumsum()).apply('{0:.2%}'.format)\n",
    "agg2['good_cum'] = ((agg2.goods / df.good.sum()).cumsum()).apply('{0:.2%}'.format)\n",
    "agg2['bad_total'] = df.score.sum()\n",
    "agg2['good_total'] = df.good.sum()\n",
    "\n",
    "# calculo do ks\n",
    "agg2['ks'] = abs(np.round(((agg2.bads / df.score.sum()).cumsum() - (agg2.goods / df.good.sum()).cumsum()), 4) * 100)\n",
    "\n",
    "# marca o maior ks\n",
    "flag = lambda x: '<----' if x == agg2.ks.max() else ''\n",
    "agg2['max_ks'] = agg2.ks.apply(flag)\n",
    "\n",
    "pd.set_option(\"display.max_columns\", None)\n",
    "agg2"
   ]
  },
  {
   "cell_type": "code",
   "execution_count": 81,
   "metadata": {},
   "outputs": [
    {
     "data": {
      "text/html": [
       "<div>\n",
       "<style scoped>\n",
       "    .dataframe tbody tr th:only-of-type {\n",
       "        vertical-align: middle;\n",
       "    }\n",
       "\n",
       "    .dataframe tbody tr th {\n",
       "        vertical-align: top;\n",
       "    }\n",
       "\n",
       "    .dataframe thead th {\n",
       "        text-align: right;\n",
       "    }\n",
       "</style>\n",
       "<table border=\"1\" class=\"dataframe\">\n",
       "  <thead>\n",
       "    <tr style=\"text-align: right;\">\n",
       "      <th></th>\n",
       "      <th>min_scr</th>\n",
       "      <th>max_scr</th>\n",
       "      <th>bads</th>\n",
       "      <th>goods</th>\n",
       "      <th>total</th>\n",
       "      <th>odds</th>\n",
       "      <th>bad_rate</th>\n",
       "      <th>good_rate</th>\n",
       "      <th>bad_cum</th>\n",
       "      <th>good_cum</th>\n",
       "      <th>bad_total</th>\n",
       "      <th>good_total</th>\n",
       "      <th>ks</th>\n",
       "      <th>max_ks</th>\n",
       "    </tr>\n",
       "  </thead>\n",
       "  <tbody>\n",
       "    <tr>\n",
       "      <th>0</th>\n",
       "      <td>0.036064</td>\n",
       "      <td>0.116261</td>\n",
       "      <td>84.094118</td>\n",
       "      <td>915.905882</td>\n",
       "      <td>1000.0</td>\n",
       "      <td>10.89</td>\n",
       "      <td>8.41%</td>\n",
       "      <td>91.59%</td>\n",
       "      <td>6.70%</td>\n",
       "      <td>24.46%</td>\n",
       "      <td>1254.995274</td>\n",
       "      <td>3744.004726</td>\n",
       "      <td>17.76</td>\n",
       "      <td></td>\n",
       "    </tr>\n",
       "    <tr>\n",
       "      <th>1</th>\n",
       "      <td>0.116437</td>\n",
       "      <td>0.178083</td>\n",
       "      <td>147.293420</td>\n",
       "      <td>852.706580</td>\n",
       "      <td>1000.0</td>\n",
       "      <td>5.79</td>\n",
       "      <td>14.73%</td>\n",
       "      <td>85.27%</td>\n",
       "      <td>18.44%</td>\n",
       "      <td>47.24%</td>\n",
       "      <td>1254.995274</td>\n",
       "      <td>3744.004726</td>\n",
       "      <td>28.80</td>\n",
       "      <td></td>\n",
       "    </tr>\n",
       "    <tr>\n",
       "      <th>2</th>\n",
       "      <td>0.178159</td>\n",
       "      <td>0.260965</td>\n",
       "      <td>218.994700</td>\n",
       "      <td>780.005300</td>\n",
       "      <td>999.0</td>\n",
       "      <td>3.56</td>\n",
       "      <td>21.92%</td>\n",
       "      <td>78.08%</td>\n",
       "      <td>35.89%</td>\n",
       "      <td>68.07%</td>\n",
       "      <td>1254.995274</td>\n",
       "      <td>3744.004726</td>\n",
       "      <td>32.18</td>\n",
       "      <td>&lt;----</td>\n",
       "    </tr>\n",
       "    <tr>\n",
       "      <th>3</th>\n",
       "      <td>0.261016</td>\n",
       "      <td>0.371728</td>\n",
       "      <td>309.113310</td>\n",
       "      <td>690.886690</td>\n",
       "      <td>1000.0</td>\n",
       "      <td>2.24</td>\n",
       "      <td>30.91%</td>\n",
       "      <td>69.09%</td>\n",
       "      <td>60.52%</td>\n",
       "      <td>86.53%</td>\n",
       "      <td>1254.995274</td>\n",
       "      <td>3744.004726</td>\n",
       "      <td>26.01</td>\n",
       "      <td></td>\n",
       "    </tr>\n",
       "    <tr>\n",
       "      <th>4</th>\n",
       "      <td>0.371956</td>\n",
       "      <td>0.777650</td>\n",
       "      <td>495.499726</td>\n",
       "      <td>504.500274</td>\n",
       "      <td>1000.0</td>\n",
       "      <td>1.02</td>\n",
       "      <td>49.55%</td>\n",
       "      <td>50.45%</td>\n",
       "      <td>100.00%</td>\n",
       "      <td>100.00%</td>\n",
       "      <td>1254.995274</td>\n",
       "      <td>3744.004726</td>\n",
       "      <td>0.00</td>\n",
       "      <td></td>\n",
       "    </tr>\n",
       "  </tbody>\n",
       "</table>\n",
       "</div>"
      ],
      "text/plain": [
       "    min_scr   max_scr        bads       goods   total   odds bad_rate  \\\n",
       "0  0.036064  0.116261   84.094118  915.905882  1000.0  10.89    8.41%   \n",
       "1  0.116437  0.178083  147.293420  852.706580  1000.0   5.79   14.73%   \n",
       "2  0.178159  0.260965  218.994700  780.005300   999.0   3.56   21.92%   \n",
       "3  0.261016  0.371728  309.113310  690.886690  1000.0   2.24   30.91%   \n",
       "4  0.371956  0.777650  495.499726  504.500274  1000.0   1.02   49.55%   \n",
       "\n",
       "  good_rate  bad_cum good_cum    bad_total   good_total     ks max_ks  \n",
       "0    91.59%    6.70%   24.46%  1254.995274  3744.004726  17.76         \n",
       "1    85.27%   18.44%   47.24%  1254.995274  3744.004726  28.80         \n",
       "2    78.08%   35.89%   68.07%  1254.995274  3744.004726  32.18  <----  \n",
       "3    69.09%   60.52%   86.53%  1254.995274  3744.004726  26.01         \n",
       "4    50.45%  100.00%  100.00%  1254.995274  3744.004726   0.00         "
      ]
     },
     "execution_count": 81,
     "metadata": {},
     "output_type": "execute_result"
    }
   ],
   "source": [
    "df['good'] = 1 - df.score\n",
    "\n",
    "# quebra em faixas\n",
    "df['bucket'] = pd.qcut(df.score, 5)\n",
    "\n",
    " # agrupa pelas faixas\n",
    "grouped = df.groupby('bucket', as_index = False)\n",
    "\n",
    " # tabela com a contabilizacao\n",
    "agg1 = grouped.min().score\n",
    "agg1 = pd.DataFrame(grouped.min().score, columns = ['min_scr'])\n",
    "agg1['min_scr'] = grouped.min().score\n",
    "agg1['max_scr'] = grouped.max().score\n",
    "agg1['bads'] = grouped.sum().score\n",
    "agg1['goods'] = grouped.sum().good\n",
    "agg1['total'] = agg1.bads + agg1.goods\n",
    "\n",
    "# calculos intervalares\n",
    "agg2 = (agg1.sort_values(by = 'min_scr')).reset_index(drop = True)\n",
    "agg2['odds'] = (agg2.goods / agg2.bads).apply('{0:.2f}'.format)\n",
    "agg2['bad_rate'] = (agg2.bads / agg2.total).apply('{0:.2%}'.format)\n",
    "agg2['good_rate'] = (agg2.goods / agg2.total).apply('{0:.2%}'.format)\n",
    "agg2['bad_cum'] = ((agg2.bads / df.score.sum()).cumsum()).apply('{0:.2%}'.format)\n",
    "agg2['good_cum'] = ((agg2.goods / df.good.sum()).cumsum()).apply('{0:.2%}'.format)\n",
    "agg2['bad_total'] = df.score.sum()\n",
    "agg2['good_total'] = df.good.sum()\n",
    "\n",
    "# calculo do ks\n",
    "agg2['ks'] = abs(np.round(((agg2.bads / df.score.sum()).cumsum() - (agg2.goods / df.good.sum()).cumsum()), 4) * 100)\n",
    "\n",
    "# marca o maior ks\n",
    "flag = lambda x: '<----' if x == agg2.ks.max() else ''\n",
    "agg2['max_ks'] = agg2.ks.apply(flag)\n",
    "\n",
    "pd.set_option(\"display.max_columns\", None)\n",
    "agg2"
   ]
  },
  {
   "cell_type": "code",
   "execution_count": null,
   "metadata": {},
   "outputs": [],
   "source": []
  }
 ],
 "metadata": {
  "kernelspec": {
   "display_name": "Python 3",
   "language": "python",
   "name": "python3"
  },
  "language_info": {
   "codemirror_mode": {
    "name": "ipython",
    "version": 3
   },
   "file_extension": ".py",
   "mimetype": "text/x-python",
   "name": "python",
   "nbconvert_exporter": "python",
   "pygments_lexer": "ipython3",
   "version": "3.8.3"
  }
 },
 "nbformat": 4,
 "nbformat_minor": 4
}
